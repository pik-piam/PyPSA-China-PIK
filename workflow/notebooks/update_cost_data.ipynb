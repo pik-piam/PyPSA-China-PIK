{
 "cells": [
  {
   "cell_type": "code",
   "execution_count": 1,
   "id": "6c540021",
   "metadata": {},
   "outputs": [
    {
     "data": {
      "text/plain": [
       "['../../resources/data/costs/default/costs_2020.csv',\n",
       " '../../resources/data/costs/default/costs_2025.csv',\n",
       " '../../resources/data/costs/default/costs_2030.csv',\n",
       " '../../resources/data/costs/default/costs_2035.csv',\n",
       " '../../resources/data/costs/default/costs_2040.csv',\n",
       " '../../resources/data/costs/default/costs_2045.csv',\n",
       " '../../resources/data/costs/default/costs_2050.csv',\n",
       " '../../resources/data/costs/default/costs_2055.csv',\n",
       " '../../resources/data/costs/default/costs_2060.csv']"
      ]
     },
     "execution_count": 1,
     "metadata": {},
     "output_type": "execute_result"
    }
   ],
   "source": [
    "import pandas as pd\n",
    "import glob\n",
    "import os\n",
    "\n",
    "# Path to the directory containing the CSV files\n",
    "data_dir = \"../../resources/data/costs/default/\"\n",
    "csv_files = glob.glob(os.path.join(data_dir, \"costs_*.csv\"))\n",
    "csv_files = sorted(csv_files)\n",
    "csv_files\n"
   ]
  },
  {
   "cell_type": "code",
   "execution_count": 2,
   "id": "f9f9c14e",
   "metadata": {},
   "outputs": [
    {
     "data": {
      "text/plain": [
       "0.4095004095004094"
      ]
     },
     "execution_count": 2,
     "metadata": {},
     "output_type": "execute_result"
    }
   ],
   "source": [
    "heat_rate = 300 # gce/kwh\n",
    "gce_to_kwh = 8.14/1000\n",
    "eta= 1/(gce_to_kwh*heat_rate)\n",
    "eta"
   ]
  },
  {
   "cell_type": "code",
   "execution_count": 5,
   "id": "7e23bf72",
   "metadata": {},
   "outputs": [
    {
     "data": {
      "text/plain": [
       "0.4387504387504387"
      ]
     },
     "execution_count": 5,
     "metadata": {},
     "output_type": "execute_result"
    }
   ],
   "source": [
    "heat_rate = 280 # gce/kwh\n",
    "gce_to_kwh = 8.14/1000\n",
    "eta= 1/(gce_to_kwh*heat_rate)\n",
    "eta"
   ]
  },
  {
   "cell_type": "code",
   "execution_count": 6,
   "id": "fac7cfcf",
   "metadata": {},
   "outputs": [
    {
     "data": {
      "text/plain": [
       "{2020: 0.4387504387504387,\n",
       " 2025: 0.4489066339066338,\n",
       " 2030: 0.459062829062829,\n",
       " 2035: 0.46921902421902417,\n",
       " 2040: 0.4793752193752193,\n",
       " 2045: 0.4895314145314145,\n",
       " 2050: 0.49968760968760967,\n",
       " 2055: 0.5098438048438049,\n",
       " 2060: 0.52}"
      ]
     },
     "execution_count": 6,
     "metadata": {},
     "output_type": "execute_result"
    }
   ],
   "source": [
    "import numpy as np\n",
    "# from heat rate coal eq/kWh (Xiang et al nat energy 2023) in 2020 to 52% 2060 (D KEA)\n",
    "l = np.linspace(eta,0.52, len(csv_files))\n",
    "years = [int(f.split('_')[-1].split('.csv')[0]) for f in csv_files]\n",
    "new_values = dict(zip(years, l))\n",
    "new_values"
   ]
  },
  {
   "cell_type": "code",
   "execution_count": 11,
   "id": "4cad728e",
   "metadata": {},
   "outputs": [],
   "source": [
    "\n",
    "for file_path in csv_files:\n",
    "    # Extract year from filename\n",
    "    basename = os.path.basename(file_path)\n",
    "    year = basename.split(\"_\")[1].split(\".\")[0]\n",
    "\n",
    "    # Read CSV\n",
    "    df = pd.read_csv(file_path)\n",
    "\n",
    "    # Find the row for 'coal' and column for 'efficiency'\n",
    "    mask = (df['technology'] == 'central coal CHP') & (df['parameter'] == 'efficiency')\n",
    "    if mask.any():\n",
    "        # Update the value to the new format: {year}:value\n",
    "        old_value = df.loc[mask, 'value'].iloc[0]\n",
    "        df.loc[mask, 'value'] = new_values[int(year)]*0.999\n",
    "        df.loc[mask, \"source\"] = \"Linear increase from Xiang et al nat energy 2023 to DKEA catalogue 2023 value for 2060\"\n",
    "\n",
    "        # # Overwrite the CSV file\n",
    "        df.to_csv(file_path, index=False)\n",
    "\n",
    "for file_path in csv_files:\n",
    "    # Extract year from filename\n",
    "    basename = os.path.basename(file_path)\n",
    "    year = basename.split(\"_\")[1].split(\".\")[0]\n",
    "\n",
    "    # Read CSV\n",
    "    df = pd.read_csv(file_path)\n",
    "\n",
    "    # Find the row for 'coal' and column for 'efficiency'\n",
    "    mask = (df['technology'] == 'coal') & (df['parameter'] == 'efficiency')\n",
    "    if mask.any():\n",
    "        # Update the value to the new format: {year}:value\n",
    "        old_value = df.loc[mask, 'value'].iloc[0]\n",
    "        df.loc[mask, 'value'] = new_values[int(year)]*1.001\n",
    "        df.loc[mask, \"source\"] = \"Linear increase from Xiang et al nat energy 2023 to DKEA catalogue 2023 value for 2060\"\n",
    "\n",
    "        # # Overwrite the CSV file\n",
    "        df.to_csv(file_path, index=False)\n"
   ]
  },
  {
   "cell_type": "code",
   "execution_count": 9,
   "id": "5edaa020",
   "metadata": {},
   "outputs": [],
   "source": [
    "\n",
    "for file_path in csv_files:\n",
    "    # Extract year from filename\n",
    "    basename = os.path.basename(file_path)\n",
    "    year = basename.split(\"_\")[1].split(\".\")[0]\n",
    "\n",
    "    # Read CSV\n",
    "    df = pd.read_csv(file_path)\n",
    "\n",
    "    # Find the row for 'coal' and column for 'efficiency'\n",
    "    mask = (df['technology'] == 'central hydrogen CHP') & (df['parameter'] == 'efficiency')\n",
    "    mask_gas = (df['technology'] == 'central gas CHP CC') & (df['parameter'] == 'efficiency')\n",
    "\n",
    "    if mask.any():\n",
    "        # Update the value to the new format: {year}:value\n",
    "        old_value = df.loc[mask, 'value'].iloc[0]\n",
    "        df.loc[mask, 'value'] = df.loc[mask_gas, 'value'].values*0.95\n",
    "        df.loc[mask, \"source\"] = \"gas CHP combined cycle efficiency *0.95 (based on a 60% H2 TEA https://www.mdpi.com/2071-1050/17/8/3369)\"\n",
    "\n",
    "        # # Overwrite the CSV file\n",
    "        df.to_csv(file_path, index=False)\n",
    "\n",
    "    # Read CSV\n",
    "    df = pd.read_csv(file_path)\n",
    "\n",
    "    # Find the row for 'coal' and column for 'efficiency'\n",
    "    mask = (df['technology'] == 'central hydrogen CHP') & (df['parameter'] == 'investment')\n",
    "    mask_gas = (df['technology'] == 'central gas CHP CC') & (df['parameter'] == 'investment')\n",
    "\n",
    "    if mask.any():\n",
    "        # Update the value to the new format: {year}:value\n",
    "        old_value = df.loc[mask, 'value'].iloc[0]\n",
    "        df.loc[mask, 'value'] = df.loc[mask_gas, 'value'].values*1.1\n",
    "        df.loc[mask, \"source\"] = \"10% markup on gas CC as per H2-Ready Gas-fired Power Plants, Christidis et al 2023, Reiner Lemoine Institut\"\n",
    "\n",
    "        # # Overwrite the CSV file\n",
    "        df.to_csv(file_path, index=False)\n",
    "\n",
    "\n",
    "    # Read CSV\n",
    "    df = pd.read_csv(file_path)\n",
    "\n",
    "    # Find the row for 'coal' and column for 'efficiency'\n",
    "    mask = (df['technology'] == 'central hydrogen CHP') & (df['parameter'] == 'lifetime')\n",
    "    mask_gas = (df['technology'] == 'central gas CHP CC') & (df['parameter'] == 'lifetime')\n",
    "\n",
    "    if mask.any():\n",
    "        # Update the value to the new format: {year}:value\n",
    "        df.loc[mask, 'value'] = df.loc[mask_gas, 'value'].values-5\n",
    "        df.loc[mask, \"source\"] = \"5 year lifetime penalty vs gas - assumption\"\n",
    "\n",
    "        # # Overwrite the CSV file\n",
    "        df.to_csv(file_path, index=False)\n",
    "\n"
   ]
  },
  {
   "cell_type": "code",
   "execution_count": 42,
   "id": "47180d59",
   "metadata": {},
   "outputs": [
    {
     "name": "stdout",
     "output_type": "stream",
     "text": [
      "saved to  ../../resources/data/costs/default/costs_2020.csv\n",
      "saved to  ../../resources/data/costs/default/costs_2025.csv\n",
      "saved to  ../../resources/data/costs/default/costs_2030.csv\n",
      "saved to  ../../resources/data/costs/default/costs_2035.csv\n",
      "saved to  ../../resources/data/costs/default/costs_2040.csv\n",
      "saved to  ../../resources/data/costs/default/costs_2045.csv\n",
      "saved to  ../../resources/data/costs/default/costs_2050.csv\n",
      "saved to  ../../resources/data/costs/default/costs_2055.csv\n",
      "saved to  ../../resources/data/costs/default/costs_2060.csv\n"
     ]
    }
   ],
   "source": [
    "eta_coal_boiler = 0.78 # efficiency guess of coal historical boilers *not suitable for pathway mode*\n",
    "for file_path in csv_files:\n",
    "    # Extract year from filename\n",
    "    basename = os.path.basename(file_path)\n",
    "    year = int(basename.split(\"_\")[1].split(\".\")[0])\n",
    "    \n",
    "    # Read CSV\n",
    "    df = pd.read_csv(file_path)\n",
    "    df_ = pd.concat(\n",
    "        [df, \n",
    "        pd.Series([\"central coal boiler\",year,\"hist_efficiency\",eta_coal_boiler,\"p.u.\", \"expert guess for brownfield\", \"OPOP H4EKO class C\"], index=df.columns).to_frame().T,\n",
    "        pd.Series([\"decentral coal boiler\",year,\"hist_efficiency\",eta_coal_boiler,\"p.u.\", \"expert guess for brownfield\", \"OPOP H4EKO class C\"], index=df.columns).to_frame().T\n",
    "        ])\n",
    "    df_ = df_.drop_duplicates(subset=[\"technology\", \"parameter\"], keep=\"first\")\n",
    "    df_.sort_values(by=[\"technology\",\"year\"], inplace=True)\n",
    "    # # Overwrite the CSV file\n",
    "    df_.to_csv(file_path, index=False)\n",
    "    print(\"saved to \", file_path)\n"
   ]
  },
  {
   "cell_type": "code",
   "execution_count": 27,
   "id": "cf29abb5",
   "metadata": {},
   "outputs": [
    {
     "data": {
      "text/html": [
       "<div>\n",
       "<style scoped>\n",
       "    .dataframe tbody tr th:only-of-type {\n",
       "        vertical-align: middle;\n",
       "    }\n",
       "\n",
       "    .dataframe tbody tr th {\n",
       "        vertical-align: top;\n",
       "    }\n",
       "\n",
       "    .dataframe thead th {\n",
       "        text-align: right;\n",
       "    }\n",
       "</style>\n",
       "<table border=\"1\" class=\"dataframe\">\n",
       "  <thead>\n",
       "    <tr style=\"text-align: right;\">\n",
       "      <th></th>\n",
       "      <th>technology</th>\n",
       "      <th>year</th>\n",
       "      <th>parameter</th>\n",
       "      <th>value</th>\n",
       "      <th>unit</th>\n",
       "      <th>source</th>\n",
       "      <th>further description</th>\n",
       "    </tr>\n",
       "  </thead>\n",
       "  <tbody>\n",
       "  </tbody>\n",
       "</table>\n",
       "</div>"
      ],
      "text/plain": [
       "Empty DataFrame\n",
       "Columns: [technology, year, parameter, value, unit, source, further description]\n",
       "Index: []"
      ]
     },
     "execution_count": 27,
     "metadata": {},
     "output_type": "execute_result"
    }
   ],
   "source": [
    "df_.loc[df_.duplicated(subset=[\"technology\", \"parameter\"], keep=False)]"
   ]
  },
  {
   "cell_type": "code",
   "execution_count": 8,
   "id": "dd6840a2",
   "metadata": {},
   "outputs": [
    {
     "data": {
      "text/plain": [
       "<Axes: xlabel='year', ylabel='value'>"
      ]
     },
     "execution_count": 8,
     "metadata": {},
     "output_type": "execute_result"
    },
    {
     "data": {
      "image/png": "[encoded data removed]",
      "text/plain": [
       "<Figure size 640x480 with 1 Axes>"
      ]
     },
     "metadata": {},
     "output_type": "display_data"
    },
    {
     "data": {
      "image/png": "[encoded data removed]",
      "text/plain": [
       "<Figure size 640x480 with 1 Axes>"
      ]
     },
     "metadata": {},
     "output_type": "display_data"
    }
   ],
   "source": [
    "data = {}\n",
    "for file_path in csv_files:\n",
    "    # Extract year from filename\n",
    "    basename = os.path.basename(file_path)\n",
    "    year = basename.split(\"_\")[1].split(\".\")[0]\n",
    "\n",
    "    # Read CSV\n",
    "    df = pd.read_csv(file_path)\n",
    "    # Find the row for 'coal' and column for 'efficiency'\n",
    "    mask = (df['technology'] == 'central gas CHP')\n",
    "    if mask.any():\n",
    "        # Update the value to the new format: {year}:value\n",
    "        data[year] = df.loc[mask]\n",
    "pd.concat(data.values()).query(\"parameter=='investment'\").plot(kind=\"scatter\", x=\"year\", y=\"value\")\n",
    "pd.concat(data.values()).query(\"parameter=='efficiency'\").plot(kind=\"scatter\", x=\"year\", y=\"value\")"
   ]
  },
  {
   "cell_type": "markdown",
   "id": "4629095b",
   "metadata": {},
   "source": [
    "# FIX CC CHP"
   ]
  },
  {
   "cell_type": "code",
   "execution_count": 9,
   "id": "d7498535",
   "metadata": {},
   "outputs": [],
   "source": [
    "# piecewise linear interpolation of DKEA values\n",
    "dk_ea_invest = {\n",
    " 2020: 0.88*1000,\n",
    " 2030: 0.83*1000,\n",
    " 2050: 0.8*1000}\n"
   ]
  },
  {
   "cell_type": "code",
   "execution_count": 10,
   "id": "f4c79c6e",
   "metadata": {},
   "outputs": [
    {
     "name": "stdout",
     "output_type": "stream",
     "text": [
      "Fitted parameters: a=86.49837306176029, b=-0.08628579192817794\n"
     ]
    },
    {
     "name": "stderr",
     "output_type": "stream",
     "text": [
      "/p/tmp/ivanra/anaconda/ipykernel_788578/364525496.py:14: OptimizeWarning: Covariance of the parameters could not be estimated\n",
      "  popt, _ = curve_fit(exp_decrease, x, y, p0=(y[0], -0.1, 750))\n"
     ]
    },
    {
     "ename": "NameError",
     "evalue": "name 'dk_ea' is not defined",
     "output_type": "error",
     "traceback": [
      "\u001b[0;31m---------------------------------------------------------------------------\u001b[0m",
      "\u001b[0;31mNameError\u001b[0m                                 Traceback (most recent call last)",
      "Cell \u001b[0;32mIn[10], line 24\u001b[0m\n\u001b[1;32m     21\u001b[0m years_fit \u001b[38;5;241m=\u001b[39m np\u001b[38;5;241m.\u001b[39marange(\u001b[38;5;241m2020\u001b[39m, \u001b[38;5;241m2061\u001b[39m, \u001b[38;5;241m5\u001b[39m)\n\u001b[1;32m     22\u001b[0m y_fit \u001b[38;5;241m=\u001b[39m exp_decrease(years_fit, a, b, c)\n\u001b[0;32m---> 24\u001b[0m plt\u001b[38;5;241m.\u001b[39mscatter(\u001b[43mdk_ea\u001b[49m\u001b[38;5;241m.\u001b[39mkeys(), dk_ea\u001b[38;5;241m.\u001b[39mvalues(), marker\u001b[38;5;241m=\u001b[39m\u001b[38;5;124m\"\u001b[39m\u001b[38;5;124mD\u001b[39m\u001b[38;5;124m\"\u001b[39m, color \u001b[38;5;241m=\u001b[39m \u001b[38;5;124m\"\u001b[39m\u001b[38;5;124mblack\u001b[39m\u001b[38;5;124m\"\u001b[39m)\n\u001b[1;32m     25\u001b[0m plt\u001b[38;5;241m.\u001b[39mscatter(years_fit, y_fit, color\u001b[38;5;241m=\u001b[39m\u001b[38;5;124m'\u001b[39m\u001b[38;5;124mred\u001b[39m\u001b[38;5;124m'\u001b[39m, alpha\u001b[38;5;241m=\u001b[39m\u001b[38;5;241m0.9\u001b[39m)\n\u001b[1;32m     26\u001b[0m fit \u001b[38;5;241m=\u001b[39m \u001b[38;5;28mdict\u001b[39m(\u001b[38;5;28mzip\u001b[39m(years_fit, y_fit))\n",
      "\u001b[0;31mNameError\u001b[0m: name 'dk_ea' is not defined"
     ]
    }
   ],
   "source": [
    "from scipy.optimize import curve_fit\n",
    "import numpy as np\n",
    "import matplotlib.pyplot as plt\n",
    "\n",
    "# Prepare data\n",
    "x = np.array(list(dk_ea_invest.keys()))\n",
    "y = np.array(list(dk_ea_invest.values()))\n",
    "\n",
    "# Exponential decay function\n",
    "def exp_decrease(x, a, b, c):\n",
    "    return a * np.exp(b * (x - x[0])) + c\n",
    "\n",
    "# Fit\n",
    "popt, _ = curve_fit(exp_decrease, x, y, p0=(y[0], -0.1, 750))\n",
    "\n",
    "# popt contains the fitted parameters a and b\n",
    "a, b, c = popt\n",
    "print(f\"Fitted parameters: a={a}, b={b}\")\n",
    "\n",
    "# Example: predict for all years\n",
    "years_fit = np.arange(2020, 2061, 5)\n",
    "y_fit = exp_decrease(years_fit, a, b, c)\n",
    "\n",
    "plt.scatter(dk_ea.keys(), dk_ea.values(), marker=\"D\", color = \"black\")\n",
    "plt.scatter(years_fit, y_fit, color='red', alpha=0.9)\n",
    "fit = dict(zip(years_fit, y_fit))"
   ]
  },
  {
   "cell_type": "code",
   "execution_count": null,
   "id": "aeeae903",
   "metadata": {},
   "outputs": [
    {
     "name": "stderr",
     "output_type": "stream",
     "text": [
      "/p/tmp/ivanra/anaconda/ipykernel_3724012/3321488110.py:17: FutureWarning: Setting an item of incompatible dtype is deprecated and will raise an error in a future version of pandas. Value '849.69' has dtype incompatible with float64, please explicitly cast to a compatible dtype first.\n",
      "  df.loc[mask, 'value'] = f\"{fit[int(year)]:.2f}\"\n",
      "/p/tmp/ivanra/anaconda/ipykernel_3724012/3321488110.py:17: FutureWarning: Setting an item of incompatible dtype is deprecated and will raise an error in a future version of pandas. Value '800.00' has dtype incompatible with float64, please explicitly cast to a compatible dtype first.\n",
      "  df.loc[mask, 'value'] = f\"{fit[int(year)]:.2f}\"\n",
      "/p/tmp/ivanra/anaconda/ipykernel_3724012/3321488110.py:17: FutureWarning: Setting an item of incompatible dtype is deprecated and will raise an error in a future version of pandas. Value '880.00' has dtype incompatible with float64, please explicitly cast to a compatible dtype first.\n",
      "  df.loc[mask, 'value'] = f\"{fit[int(year)]:.2f}\"\n",
      "/p/tmp/ivanra/anaconda/ipykernel_3724012/3321488110.py:17: FutureWarning: Setting an item of incompatible dtype is deprecated and will raise an error in a future version of pandas. Value '808.90' has dtype incompatible with float64, please explicitly cast to a compatible dtype first.\n",
      "  df.loc[mask, 'value'] = f\"{fit[int(year)]:.2f}\"\n",
      "/p/tmp/ivanra/anaconda/ipykernel_3724012/3321488110.py:17: FutureWarning: Setting an item of incompatible dtype is deprecated and will raise an error in a future version of pandas. Value '817.21' has dtype incompatible with float64, please explicitly cast to a compatible dtype first.\n",
      "  df.loc[mask, 'value'] = f\"{fit[int(year)]:.2f}\"\n",
      "/p/tmp/ivanra/anaconda/ipykernel_3724012/3321488110.py:17: FutureWarning: Setting an item of incompatible dtype is deprecated and will raise an error in a future version of pandas. Value '796.24' has dtype incompatible with float64, please explicitly cast to a compatible dtype first.\n",
      "  df.loc[mask, 'value'] = f\"{fit[int(year)]:.2f}\"\n",
      "/p/tmp/ivanra/anaconda/ipykernel_3724012/3321488110.py:17: FutureWarning: Setting an item of incompatible dtype is deprecated and will raise an error in a future version of pandas. Value '797.72' has dtype incompatible with float64, please explicitly cast to a compatible dtype first.\n",
      "  df.loc[mask, 'value'] = f\"{fit[int(year)]:.2f}\"\n",
      "/p/tmp/ivanra/anaconda/ipykernel_3724012/3321488110.py:17: FutureWarning: Setting an item of incompatible dtype is deprecated and will raise an error in a future version of pandas. Value '830.00' has dtype incompatible with float64, please explicitly cast to a compatible dtype first.\n",
      "  df.loc[mask, 'value'] = f\"{fit[int(year)]:.2f}\"\n",
      "/p/tmp/ivanra/anaconda/ipykernel_3724012/3321488110.py:17: FutureWarning: Setting an item of incompatible dtype is deprecated and will raise an error in a future version of pandas. Value '803.51' has dtype incompatible with float64, please explicitly cast to a compatible dtype first.\n",
      "  df.loc[mask, 'value'] = f\"{fit[int(year)]:.2f}\"\n"
     ]
    }
   ],
   "source": [
    "data = {}\n",
    "for file_path in csv_files:\n",
    "    # Extract year from filename\n",
    "    basename = os.path.basename(file_path)\n",
    "    year = basename.split(\"_\")[1].split(\".\")[0]\n",
    "\n",
    "    # Read CSV\n",
    "    df = pd.read_csv(file_path)\n",
    "    # Find the row for 'coal' and column for 'efficiency'\n",
    "    mask = (df['technology'] == 'central gas CHP CC') & (df['parameter'] == 'investment')\n",
    "    if mask.any():\n",
    "        # Update the value to the new format: {year}:value\n",
    "        # Find the row for 'coal' and column for 'efficiency'\n",
    "        if mask.any():\n",
    "            # Update the value to the new format: {year}:value\n",
    "            old_value = df.loc[mask, 'value'].iloc[0]\n",
    "            df.loc[mask, 'value'] = f\"{fit[int(year)]:.2f}\"\n",
    "            df.loc[mask,\"further description\"] = \"05 Gas turb. CC, steam extract.: Investment\"\n",
    "\n",
    "            # # Overwrite the CSV file\n",
    "            df.to_csv(file_path, index=False)"
   ]
  },
  {
   "cell_type": "code",
   "execution_count": null,
   "id": "159fd4f8",
   "metadata": {},
   "outputs": [
    {
     "data": {
      "image/png": "[encoded data removed]",
      "text/plain": [
       "<Figure size 640x480 with 1 Axes>"
      ]
     },
     "metadata": {},
     "output_type": "display_data"
    }
   ],
   "source": [
    "# piecewise linear interpolation of DKEA values\n",
    "dk_ea = {\n",
    " 2020: 0.59,\n",
    " 2030: 0.61,\n",
    " 2050: 0.63}\n",
    "years = [2020, 2025, 2030, 2035, 2040, 2045, 2050, 2055, 2060   ]\n",
    "plt.plot(dk_ea.keys(), dk_ea.values(), marker=\"D\", color = \"black\")\n",
    "eff_interp = np.linspace(0.59,0.63,len(years)-2).tolist() + [0.63,0.63]\n",
    "plt.plot(years, eff_interp, marker=\"o\", color = \"red\")\n",
    "eff_d = dict(zip(years, eff_interp))"
   ]
  },
  {
   "cell_type": "code",
   "execution_count": null,
   "id": "0e82eaa5",
   "metadata": {},
   "outputs": [],
   "source": [
    "data = {}\n",
    "for file_path in csv_files:\n",
    "    # Extract year from filename\n",
    "    basename = os.path.basename(file_path)\n",
    "    year = basename.split(\"_\")[1].split(\".\")[0]\n",
    "\n",
    "    # Read CSV\n",
    "    df = pd.read_csv(file_path)\n",
    "    # Find the row for 'coal' and column for 'efficiency'\n",
    "    mask = (df['technology'] == 'central gas CHP CC') & (df['parameter'] == 'efficiency')\n",
    "    if mask.any():\n",
    "        # Update the value to the new format: {year}:value\n",
    "        # Find the row for 'coal' and column for 'efficiency'\n",
    "        if mask.any():\n",
    "            # Update the value to the new format: {year}:value\n",
    "            old_value = df.loc[mask, 'value'].iloc[0]\n",
    "            df.loc[mask, 'value'] = eff_d[int(year)]\n",
    "            df.loc[mask,\"further description\"] = \"05 Gas turb. CC, steam extract.:  Efficiency\"\n",
    "\n",
    "            # # Overwrite the CSV file\n",
    "            df.to_csv(file_path, index=False)"
   ]
  }
 ],
 "metadata": {
  "kernelspec": {
   "display_name": "Python 3",
   "language": "python",
   "name": "python3"
  },
  "language_info": {
   "codemirror_mode": {
    "name": "ipython",
    "version": 3
   },
   "file_extension": ".py",
   "mimetype": "text/x-python",
   "name": "python",
   "nbconvert_exporter": "python",
   "pygments_lexer": "ipython3",
   "version": "3.12.7"
  }
 },
 "nbformat": 4,
 "nbformat_minor": 5
}
