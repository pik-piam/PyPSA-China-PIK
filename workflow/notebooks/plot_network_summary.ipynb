{
 "cells": [
  {
   "cell_type": "markdown",
   "metadata": {},
   "source": [
    "# PYPSA China SLide show\n",
    "\n"
   ]
  },
  {
   "cell_type": "code",
   "execution_count": null,
   "metadata": {},
   "outputs": [],
   "source": [
    "%load_ext autoreload\n",
    "%autoreload 2\n",
    "%precision %e"
   ]
  },
  {
   "cell_type": "code",
   "execution_count": null,
   "metadata": {},
   "outputs": [],
   "source": [
    "\"\"\" Boiler plate\n",
    "- import all packages\n",
    "- emulate snakemake so can load config as usual\n",
    "- load the network you want\n",
    "TODO: make it easier to restore old runs\n",
    "TODO: hide all the boiler pates in a file\n",
    "\"\"\"\n",
    "%load_ext autoreload\n",
    "%autoreload 2\n",
    "%precision %e\n",
    "\n",
    "import logging\n",
    "import os.path\n",
    "\n",
    "# running the jupyter notebook on the compute nodes doesnt build the path as expected, you have to manually do this\n",
    "import IPython\n",
    "import matplotlib.pyplot as plt\n",
    "import numpy as np\n",
    "import pandas as pd\n",
    "import pypsa\n",
    "import seaborn as sns\n",
    "from IPython.utils import io\n",
    "\n",
    "working_directory = os.path.dirname(\n",
    "    IPython.extract_module_locals()[1][\"__vsc_ipynb_file__\"]\n",
    ")\n",
    "workflow_dir = os.path.dirname(working_directory)\n",
    "scripts_dir = os.path.join(workflow_dir, \"scripts\")\n",
    "root_dir = os.path.dirname(workflow_dir)\n",
    "\n",
    "os.chdir(scripts_dir)\n",
    "\n",
    "\n",
    "logging.basicConfig(level=logging.CRITICAL)\n",
    "logger = logging.getLogger(__name__)\n",
    "\n",
    "\n",
    "# from make_summary import assign_carriers\n",
    "from _helpers import configure_logging, mock_snakemake\n",
    "\n",
    "logging.getLogger(\"plot_network\").setLevel(logging.CRITICAL)\n",
    "logging.getLogger(\"_plot_utilities\").setLevel(logging.CRITICAL)\n",
    "\n",
    "from _plot_utilities import determine_plottable, fix_network_names_colors\n",
    "from plot_network import plot_cost_map"
   ]
  },
  {
   "cell_type": "code",
   "execution_count": null,
   "metadata": {},
   "outputs": [],
   "source": [
    "import yaml\n",
    "\n",
    "REMIND_COUPLED = True\n",
    "PLANNING_YEAR = 2060\n",
    "# config = None if not REMIND_COUPLED else \"resources/tmp/remind_coupled.yaml\"\n",
    "config = None if not REMIND_COUPLED else \"resources/tmp/remind_coupled_cg.yaml\"\n",
    "\n",
    "with open(os.path.join(root_dir, config)) as f:\n",
    "    yaml_config = yaml.safe_load(f)\n",
    "co2_pathway = yaml_config[\"scenario\"][\"co2_pathway\"][0]"
   ]
  },
  {
   "cell_type": "code",
   "execution_count": null,
   "metadata": {},
   "outputs": [],
   "source": [
    "snakemake = mock_snakemake(\n",
    "    \"plot_network\",\n",
    "    snakefile_path=workflow_dir,\n",
    "    topology=\"current+FCG\",\n",
    "    co2_pathway=co2_pathway,\n",
    "    planning_horizons=PLANNING_YEAR,\n",
    "    configfiles=config,\n",
    "    # heating_demand=\"positive\",\n",
    ")\n",
    "\n",
    "configure_logging(snakemake, logger=logger)\n",
    "config = snakemake.config\n",
    "tech_colors = config[\"plotting\"][\"tech_colors\"]\n",
    "\n",
    "\n",
    "ntw_path = snakemake.input.network\n",
    "\n",
    "print(f\"Loading network from {ntw_path}\")\n",
    "n = pypsa.Network(ntw_path)\n",
    "results_dir = os.path.dirname(os.path.dirname(ntw_path))\n",
    "weighting = n.snapshot_weightings.iloc[0, 0]"
   ]
  },
  {
   "cell_type": "markdown",
   "metadata": {},
   "source": [
    "### Fix network for plotting // add missing info"
   ]
  },
  {
   "cell_type": "code",
   "execution_count": null,
   "metadata": {},
   "outputs": [],
   "source": [
    "fix_network_names_colors(n, config)\n",
    "determine_plottable(n);"
   ]
  },
  {
   "cell_type": "markdown",
   "metadata": {},
   "source": [
    "# Plot maps"
   ]
  },
  {
   "cell_type": "markdown",
   "metadata": {},
   "source": [
    "### plot capex"
   ]
  },
  {
   "cell_type": "code",
   "execution_count": null,
   "metadata": {},
   "outputs": [],
   "source": [
    "from _plot_utilities import set_plot_style\n",
    "from plot_network import plot_energy_map\n",
    "\n",
    "set_plot_style(\n",
    "    style_config_file=os.path.abspath(\n",
    "        \"../../config/plotting_styles/network_map.mplstyle\"\n",
    "    ),\n",
    "    base_styles=[\"classic\", \"seaborn-v0_8-white\"],\n",
    ")"
   ]
  },
  {
   "cell_type": "code",
   "execution_count": null,
   "metadata": {},
   "outputs": [],
   "source": [
    "import pypsa\n",
    "\n",
    "import pypsa\n",
    "n = pypsa.Network('/p/tmp/yanleizh/PYPSA_0724/PyPSA-China-PIK/results/v-1.1.1_REMIND_EFC_2025-0912_newlogic/overnight_co2pw-SSP2-PkBudg1000-CHA-pypsaelh2_topo-current+FCG/prenetworks-sector-brownfield/ntwk_2060.nc')\n",
    "print('=== Carriers ===')\n",
    "print(n.carriers.index.tolist())\n",
    "print('\\n=== Buses with EV in name ===')\n",
    "ev_buses = n.buses[n.buses.index.str.contains('EV', na=False)]\n",
    "print(ev_buses)\n",
    "print('\\n=== Links with BEV in name ===')\n",
    "ev_links = n.links[n.links.index.str.contains('BEV', na=False)]\n",
    "print(ev_links.index.tolist())\n",
    "print('\\n=== Loads with EV in name ===')\n",
    "ev_loads = n.loads[n.loads.index.str.contains('EV', na=False)]\n",
    "print(ev_loads.index.tolist())\n",
    "\n"
   ]
  },
  {
   "cell_type": "code",
   "execution_count": null,
   "metadata": {},
   "outputs": [],
   "source": [
    "with io.capture_output() as captured:\n",
    "    ax = plot_cost_map(n, config[\"plotting\"], cost_pannel=True, capex_only=True)"
   ]
  },
  {
   "cell_type": "code",
   "execution_count": null,
   "metadata": {
    "slideshow": {
     "slide_type": "slide"
    }
   },
   "outputs": [],
   "source": [
    "# TODO fix layout\n",
    "with io.capture_output() as captured:\n",
    "    ax = plot_cost_map(\n",
    "        n, config[\"plotting\"], cost_pannel=True, plot_additions=False, capex_only=False\n",
    "    )"
   ]
  },
  {
   "cell_type": "markdown",
   "metadata": {},
   "source": [
    "## plot electricy generation map"
   ]
  },
  {
   "cell_type": "code",
   "execution_count": null,
   "metadata": {},
   "outputs": [],
   "source": [
    "import glob\n",
    "import re\n",
    "from PIL import Image\n",
    "\n",
    "# Recursively search for files matching 'ntwk.png' in 'plots/networks/' under results_dir\n",
    "\n",
    "matches = sorted(glob.glob(f\"{results_dir}/plots/networks/*el_supply.png\", recursive=True))\n",
    "# Load all images from the matched file paths\n",
    "images = [Image.open(match) for match in matches]\n",
    "\n",
    "# Save as GIF (animated)\n",
    "if images:\n",
    "    gif_path = f\"{results_dir}/plots/networks/el_supply.gif\"\n",
    "    images[0].save(\n",
    "        gif_path,\n",
    "        save_all=True,\n",
    "        append_images=images[1:],\n",
    "        duration=500,  # duration per frame in ms\n",
    "        loop=0\n",
    "    )\n",
    "    print(f\"GIF saved to {gif_path}\")\n",
    "else:\n",
    "    print(\"No images found to create GIF.\")"
   ]
  },
  {
   "cell_type": "code",
   "execution_count": null,
   "metadata": {
    "slideshow": {
     "slide_type": "slide"
    }
   },
   "outputs": [],
   "source": [
    "from IPython.utils import io\n",
    "\n",
    "with io.capture_output() as captured:\n",
    "    plot_energy_map(\n",
    "        n, config[\"plotting\"], carrier=\"AC\", components=[\"Generator\", \"Link\"]\n",
    "    )"
   ]
  },
  {
   "cell_type": "code",
   "execution_count": null,
   "metadata": {},
   "outputs": [],
   "source": [
    "from _plot_utilities import set_plot_style\n",
    "from plot_network import plot_energy_map\n",
    "\n",
    "if snakemake.config[\"heat_coupling\"]:\n",
    "    set_plot_style(\n",
    "        style_config_file=os.path.abspath(\n",
    "            \"../../config/plotting_styles/network_map.mplstyle\"\n",
    "        ),\n",
    "        # snakemake.config[\"plotting\"][\"network_style_config_file\"],\n",
    "        base_styles=[\"classic\", \"seaborn-v0_8-white\"],\n",
    "    )\n",
    "    plot_energy_map(\n",
    "        n, config[\"plotting\"], carrier=\"heat\", components=[\"Generator\", \"Link\"]\n",
    "    )"
   ]
  },
  {
   "cell_type": "markdown",
   "metadata": {},
   "source": [
    "## Nodal prices"
   ]
  },
  {
   "cell_type": "code",
   "execution_count": null,
   "metadata": {
    "slideshow": {
     "slide_type": "slide"
    }
   },
   "outputs": [],
   "source": [
    "from plot_network import plot_nodal_prices\n",
    "\n",
    "with io.capture_output() as captured:\n",
    "    plot_nodal_prices(n, config[\"plotting\"], \"AC\")"
   ]
  },
  {
   "cell_type": "markdown",
   "metadata": {},
   "source": [
    "# CO2 emissions & Stores\n"
   ]
  },
  {
   "cell_type": "code",
   "execution_count": null,
   "metadata": {},
   "outputs": [],
   "source": [
    "n.global_constraints"
   ]
  },
  {
   "cell_type": "code",
   "execution_count": null,
   "metadata": {},
   "outputs": [],
   "source": [
    "PLOT_EMISSIONS = False\n",
    "if PLOT_EMISSIONS:\n",
    "    gen_emissions = (\n",
    "        (\n",
    "            (n.generators_t.p / n.generators.efficiency)\n",
    "            * n.generators.carrier.map(n.carriers.co2_emissions)\n",
    "        )\n",
    "        .T.groupby(n.generators.carrier)\n",
    "        .sum()\n",
    "        .T.cumsum()\n",
    "    )\n",
    "    fig, ax = plt.subplots()\n",
    "    gen_emissions.where(gen_emissions >= 0).dropna(axis=1, how=\"all\").plot(ax=ax)\n",
    "    ax.set_ylabel(\"cum CO2 emissions [t]\")"
   ]
  },
  {
   "cell_type": "code",
   "execution_count": null,
   "metadata": {},
   "outputs": [],
   "source": [
    "CHECK_STORES = False\n",
    "if CHECK_STORES:\n",
    "    battery_stores = n.stores[n.stores.carrier.str.contains(\"battery\")]\n",
    "    battery_stores_t = n.stores_t.e[\n",
    "        n.stores_t.e.columns.intersection(battery_stores.index)\n",
    "    ]\n",
    "    battery_stores_t.sum(axis=1).plot()\n",
    "\n",
    "    gas_stores = n.stores[n.stores.carrier.str.contains(\"gas\")]\n",
    "    gas_stores_t = n.stores_t.e[n.stores_t.e.columns.intersection(gas_stores.index)]\n",
    "    gas_stores_t.sum(axis=1).plot()"
   ]
  },
  {
   "cell_type": "markdown",
   "metadata": {},
   "source": [
    "## Stores & CO2 capture\n",
    "! beware the store is the difference :)"
   ]
  },
  {
   "cell_type": "code",
   "execution_count": null,
   "metadata": {},
   "outputs": [],
   "source": [
    "try:\n",
    "    stores = n.stores_t.e.T.groupby(n.stores.carrier).sum()\n",
    "    diff = stores.iloc[:, -1] - stores.iloc[:, 0]\n",
    "    co2_cap = stores.iloc[:, -1].loc[[\"CO2 capture\"]].sum()\n",
    "    co2_cap\n",
    "except KeyError:\n",
    "    print(\"Overnight model does not have CO2 capture or biomass stores, skipped\")"
   ]
  },
  {
   "cell_type": "code",
   "execution_count": null,
   "metadata": {},
   "outputs": [],
   "source": [
    "ax = n.stores_t.e.T.groupby(n.stores.carrier).sum().drop(\"gas\").T.plot(lw=4, cmap=\"jet\")\n",
    "ax.set_ylabel(\"Stored Energy [MWh]\")"
   ]
  },
  {
   "cell_type": "markdown",
   "metadata": {},
   "source": [
    "# Time series"
   ]
  },
  {
   "cell_type": "code",
   "execution_count": null,
   "metadata": {},
   "outputs": [],
   "source": [
    "mnthly_supp = n.statistics.supply(\n",
    "    comps=[\"Generator\", \"Link\"], bus_carrier=\"AC\", aggregate_time=False\n",
    ").query(\"carrier in ['Solar', 'Onshore Wind', 'Offshore Wind']\")\n",
    "mnthly_supp = mnthly_supp.T.droplevel(0, axis=1) / 1e6\n",
    "mnthly_supp.index = mnthly_supp.index.astype(\"datetime64[ns]\")\n",
    "ax = mnthly_supp.resample(\"ME\").sum().plot(marker=\"o\")\n",
    "ax.set_ylabel(\"AC supply [TWh]\");"
   ]
  },
  {
   "cell_type": "code",
   "execution_count": null,
   "metadata": {},
   "outputs": [],
   "source": [
    "mnthly_curt = n.statistics.curtailment(\n",
    "    comps=[\"Generator\", \"Link\"], bus_carrier=\"AC\", aggregate_time=False\n",
    ").query(\"carrier in ['Solar', 'Onshore Wind', 'Offshore Wind']\")\n",
    "supply = n.statistics.supply(\n",
    "    comps=[\"Generator\"], bus_carrier=\"AC\", aggregate_time=False\n",
    ").query(\"carrier in ['Solar', 'Onshore Wind', 'Offshore Wind']\")\n",
    "mnthly_curt = mnthly_curt.T.droplevel(0, axis=1)\n",
    "supply = supply.droplevel(0).T\n",
    "mnthly_curt.index = mnthly_curt.index.astype(\"datetime64[ns]\")\n",
    "curtail_pc = (\n",
    "    100\n",
    "    * mnthly_curt.resample(\"ME\").sum()\n",
    "    / (supply.resample(\"ME\").sum() + mnthly_curt.resample(\"ME\").sum())\n",
    ")\n",
    "ax = curtail_pc.plot(marker=\"o\")\n",
    "ax.set_ylabel(\"Curtailment [%]\");"
   ]
  },
  {
   "cell_type": "code",
   "execution_count": null,
   "metadata": {},
   "outputs": [],
   "source": [
    "PLOT_DEMAND_PROFILES = False\n",
    "PLOT_PRICES = True"
   ]
  },
  {
   "cell_type": "code",
   "execution_count": null,
   "metadata": {},
   "outputs": [],
   "source": [
    "if PLOT_DEMAND_PROFILES:\n",
    "    reg_groups = pd.read_csv(\n",
    "        os.path.join(root_dir, \"resources/data/regions/province_grid_groups.csv\")\n",
    "    )\n",
    "    reg_groups.set_index(\"Province\", inplace=True)\n",
    "    mapper = reg_groups[\"Region\"].to_dict()\n",
    "    grid_demands = (\n",
    "        n.statistics.withdrawal(\n",
    "            comps=\"Load\", groupby=[\"location\"], bus_carrier=\"AC\", aggregate_time=False\n",
    "        )\n",
    "        .groupby(mapper)\n",
    "        .sum()\n",
    "    )\n",
    "    mnthly_grid_demands = grid_demands.T.resample(\"ME\").sum()\n",
    "    mnthly_grid_demands_normalized = mnthly_grid_demands / mnthly_grid_demands.sum()\n",
    "    ax = mnthly_grid_demands_normalized.plot(lw=2)\n",
    "    ax.legend(loc=\"center left\", bbox_to_anchor=(1, 0.5), title=\"Region\")\n",
    "    # ax.set_ylim([0, mnthly_grid_demands.max().max()*1.1])\n",
    "    ax.set_ylabel(\"Normalized AC Monthly Demand [MWh]\")\n",
    "\n",
    "    order = mnthly_grid_demands.sum().sort_values(ascending=False).index\n",
    "    ax2 = mnthly_grid_demands[order].plot.area(cmap=\"magma\")\n",
    "    ax2.legend(loc=\"center left\", bbox_to_anchor=(1, 0.5), title=\"Grid\")\n",
    "    ax2.set_ylim([0, mnthly_grid_demands.T.sum().max() * 1.1])\n",
    "    ax2.set_ylabel(\"AC Monthly Demand [MWh]\")\n",
    "\n",
    "    load_ac = (\n",
    "        n.statistics.withdrawal(\n",
    "            comps=\"Load\", bus_carrier=\"AC\", aggregate_time=False, groupby=[\"location\"]\n",
    "        )\n",
    "        .T.resample(\"M\")\n",
    "        .sum()\n",
    "    )\n",
    "    order = load_ac.sum().sort_values(ascending=False).index\n",
    "\n",
    "    ax = load_ac[order].plot.area(cmap=\"magma\")\n",
    "    ax.legend(loc=\"center left\", bbox_to_anchor=(1, 0.5), title=\"Province\", ncols=2)\n",
    "    ax.set_ylabel(\"Demand [MWh]\")"
   ]
  },
  {
   "cell_type": "code",
   "execution_count": null,
   "metadata": {},
   "outputs": [],
   "source": [
    "if PLOT_DEMAND_PROFILES:\n",
    "    monthly_withdrawal = (\n",
    "        n.statistics.withdrawal(comps=\"Load\", bus_carrier=\"AC\", aggregate_time=False)\n",
    "        .T.resample(\"M\")\n",
    "        .sum()\n",
    "    )\n",
    "    monthly_withdrawal.index = monthly_withdrawal.index.month\n",
    "    monthly_withdrawal.plot.bar()\n",
    "    plt.xlabel(\"Month\")\n",
    "    plt.ylabel(\"Monthly Withdrawal [MWh]\")\n",
    "    plt.title(f\"Monthly Electricity Withdrawal ({year})\")\n",
    "    plt.xticks(\n",
    "        ticks=range(0, 12),\n",
    "        labels=[\n",
    "            \"Jan\",\n",
    "            \"Feb\",\n",
    "            \"Mar\",\n",
    "            \"Apr\",\n",
    "            \"May\",\n",
    "            \"Jun\",\n",
    "            \"Jul\",\n",
    "            \"Aug\",\n",
    "            \"Sep\",\n",
    "            \"Oct\",\n",
    "            \"Nov\",\n",
    "            \"Dec\",\n",
    "        ],\n",
    "    )\n",
    "    plt.tight_layout()"
   ]
  },
  {
   "cell_type": "code",
   "execution_count": null,
   "metadata": {},
   "outputs": [],
   "source": [
    "if PLOT_PRICES:\n",
    "    rev = n.statistics.revenue(comps=\"Load\", bus_carrier=\"AC\", aggregate_time=False)\n",
    "    supply = n.statistics.withdrawal(\n",
    "        comps=\"Load\", bus_carrier=\"AC\", aggregate_time=False\n",
    "    )\n",
    "    prices_w = -1 * rev.T.resample(\"W\").sum() / supply.T.resample(\"W\").sum()\n",
    "\n",
    "    fig, ax = plt.subplots(figsize=(10, 5))\n",
    "    ax2 = ax.twinx()\n",
    "    prices_w.plot(label=None, ax=ax)\n",
    "    ax.set_ylabel(\"Weekly Average Price [EUR/MWh]\")\n",
    "    EUR2CYN = 8.4\n",
    "    ax.set_yticks(ax.get_yticks())\n",
    "    ax2.yaxis.set_ticks_position(\"right\")\n",
    "    ax2.set_ylabel(\"Weekly Price [CYN/MWh]\")\n",
    "    ax2.set_ylim([v * EUR2CYN for v in ax.get_ylim()])\n",
    "    # Set y-ticks for both axes explicitly\n",
    "    ax2.set_yticks([v * EUR2CYN for v in ax.get_yticks()])\n",
    "    ax2.grid(None)\n",
    "    ax.set_xlabel(\"\")\n",
    "\n",
    "    fig, ax = plt.subplots(figsize=(10, 5))\n",
    "    ax2 = ax.twinx()\n",
    "    prices_m = -1 * rev.T.resample(\"ME\").sum() / supply.T.resample(\"ME\").sum()\n",
    "    prices_m.plot(label=None, ax=ax, lw=1, marker=\"o\", markersize=12, legend=False)\n",
    "    ax.set_ylabel(\"Monthly Average Price [EUR/MWh]\")\n",
    "    EUR2CYN = 8.4\n",
    "    ax.set_yticks(ax.get_yticks())\n",
    "    ax2.yaxis.set_ticks_position(\"right\")\n",
    "    ax2.set_ylabel(\"Monthly Price [CYN/MWh]\")\n",
    "    ax2.set_ylim([v * EUR2CYN for v in ax.get_ylim()])\n",
    "    # Set y-ticks for both axes explicitly\n",
    "    ax2.set_yticks([v * EUR2CYN for v in ax.get_yticks()])\n",
    "    ax2.grid(None)\n",
    "    ax.set_xlabel(\"\")\n",
    "\n",
    "    most_expensive_week = [\n",
    "        prices_w.idxmax().iloc[0] - pd.Timedelta(days=3.5),\n",
    "        prices_w.idxmax().iloc[0] + pd.Timedelta(days=3.5),\n",
    "    ]"
   ]
  },
  {
   "cell_type": "markdown",
   "metadata": {},
   "source": [
    "## Weekly energy balances"
   ]
  },
  {
   "cell_type": "code",
   "execution_count": null,
   "metadata": {},
   "outputs": [],
   "source": [
    "from plot_time_series import plot_energy_balance"
   ]
  },
  {
   "cell_type": "code",
   "execution_count": null,
   "metadata": {},
   "outputs": [],
   "source": [
    "with io.capture_output() as captured:\n",
    "    ax = plot_energy_balance(\n",
    "        n,\n",
    "        config[\"plotting\"],\n",
    "        start_date=f\"{PLANNING_YEAR}-07-24 00:00\",\n",
    "        end_date=f\"{PLANNING_YEAR}-07-31 12:00:00\",\n",
    "    )\n",
    "    ax.grid(axis=\"y\")\n",
    "    ax.set_title(\"Electricity Balance\")"
   ]
  },
  {
   "cell_type": "code",
   "execution_count": null,
   "metadata": {},
   "outputs": [],
   "source": [
    "PLOT_SUPPLY = 1E3\n",
    "start_date=\"2060-03-31 21:00\"\n",
    "end_date=\"2060-04-06 12:00:00\"\n",
    "plot_config = config[\"plotting\"]\n",
    "p = (\n",
    "    n.statistics.energy_balance(aggregate_time=False, bus_carrier=\"AC\")\n",
    "    .dropna(how=\"all\")\n",
    "    .groupby(\"carrier\")\n",
    "    .sum()\n",
    "    .div(PLOT_SUPPLY)\n",
    "    # .drop(\"-\")\n",
    "    .T\n",
    ")\n",
    "\n",
    "p = p.loc[start_date:end_date]\n",
    "p.rename(columns={\"-\": \"Load\", \"AC\": \"transmission losses\"}, inplace=True)\n",
    "\n",
    "\n",
    "extra_c = {\n",
    "    \"Load\": plot_config[\"tech_colors\"][\"electric load\"],\n",
    "    \"transmission losses\": plot_config[\"tech_colors\"][\"transmission losses\"],\n",
    "}\n",
    "# colors & names part 1\n",
    "p.rename(plot_config[\"nice_names\"], inplace=True)\n",
    "p.rename(columns={k: k.title() for k in p.columns}, inplace=True)\n",
    "# split into supply and wothdrawal\n",
    "supply = p.where(p > 0).dropna(axis=1, how=\"all\")\n",
    "charge = p.where(p < 0).dropna(how=\"all\", axis=1)\n",
    "\n",
    "# fix names and order\n",
    "\n",
    "charge.rename(columns={\"Battery Storage\": \"Battery\"}, inplace=True)\n",
    "supply.rename(columns={\"Battery Discharger\": \"Battery\"}, inplace=True)\n",
    "\n",
    "\n",
    "preferred_order = plot_config[\"preferred_order\"]\n",
    "plot_order = (\n",
    "    supply.columns.intersection(preferred_order).to_list()\n",
    "    + supply.columns.difference(preferred_order).to_list()\n",
    ")\n",
    "\n",
    "plot_order_charge = [name for name in preferred_order if name in charge.columns] + [\n",
    "    name for name in charge.columns if name not in preferred_order\n",
    "]\n",
    "\n",
    "supply = supply.reindex(columns=plot_order)"
   ]
  },
  {
   "cell_type": "code",
   "execution_count": null,
   "metadata": {},
   "outputs": [],
   "source": [
    "curtailed = n.statistics.curtailment(aggregate_time=False, bus_carrier=\"AC\").droplevel(0).div(PLOT_SUPPLY)\n",
    "opt_cap = n.statistics.optimal_capacity(comps = [\"Generator\", \"Link\"], bus_carrier=\"AC\").droplevel(0).div(PLOT_SUPPLY)\n",
    "opt_cap.clip(lower=0, inplace=True) # remove consumers\n",
    "opt_cap.drop([\"Solar\", \"Offshore Wind\", \"Onshore Wind\", \"AC\"], inplace=True)\n",
    "missing = list(set(opt_cap.index).difference(curtailed.index))\n",
    "supply.rename(columns={\"H2 Turbine\": \"H2 turbine\"}, inplace=True)\n",
    "supply_vre = n.statistics.supply(comps=[\"Generator\"], bus_carrier=\"AC\", aggregate_time=False).droplevel(0).T.div(PLOT_SUPPLY)[[\"Solar\", \"Offshore Wind\", \"Onshore Wind\"]]\n",
    "\n",
    "reserve = opt_cap[[x for x in missing if x in supply.columns]] - supply[[x for x in missing if x in supply.columns]]\n",
    "reserve=pd.concat([curtailed.T, reserve], axis=1).fillna(0)\n",
    "load = n.statistics.withdrawal(comps=\"Load\", bus_carrier=\"AC\", aggregate_time=False).T.div(PLOT_SUPPLY)"
   ]
  },
  {
   "cell_type": "code",
   "execution_count": null,
   "metadata": {},
   "outputs": [],
   "source": [
    "optc = n.statistics.optimal_capacity(comps = [\"Generator\", \"Link\"], bus_carrier=\"AC\").clip(0).droplevel(0).div(PLOT_SUPPLY)\n",
    "optc.drop([\"Solar\", \"Offshore Wind\", \"Onshore Wind\", \"AC\"], inplace=True)\n",
    "res_ = optc.sum()-load[\"-\"] + supply_vre.T.sum() + curtailed.sum()\n",
    "res_"
   ]
  },
  {
   "cell_type": "code",
   "execution_count": null,
   "metadata": {},
   "outputs": [],
   "source": [
    "PLOT_SUPPLY_LABEL = \"GWh\"\n",
    "NAN_COLOR = \"brown\"\n",
    "from _plot_utilities import make_nice_tech_colors, get_stat_colors\n",
    "from matplotlib.patches import Patch\n",
    "from matplotlib.lines import Line2D\n",
    "\n",
    "def plot_reserves(\n",
    "    n: pypsa.Network,\n",
    "    plot_config: dict,\n",
    "    start_date=\"2060-03-31 21:00\",\n",
    "    end_date=\"2060-04-06 12:00:00\",\n",
    "    aggregate_fossil=False,\n",
    "    add_load_line=True,\n",
    "    ax: plt.Axes = None,\n",
    "    hatch = '///'\n",
    "):\n",
    "    \"\"\"plot the electricity balance of the network for the given time range\n",
    "\n",
    "    Args:\n",
    "        n (pypsa.Network): the network\n",
    "        plot_config (dict): the plotting config (snakemake.config[\"plotting\"])\n",
    "        bus_carrier (str, optional): the carrier for the energy_balance op. Defaults to \"AC\".\n",
    "        start_date (str, optional): the range to plot. Defaults to \"2060-03-31 21:00\".\n",
    "        end_date (str, optional): the range to plot. Defaults to \"2060-04-06 12:00:00\".\n",
    "        aggregate_fossil (bool, optional): whether to aggregate fossil fuels. Defaults to False.\n",
    "        add_load_line (bool, optional): add a dashed line for the load. Defaults to True.\n",
    "    \"\"\"\n",
    "    if not ax:\n",
    "        fig, ax = plt.subplots(figsize=(12, 12))\n",
    "    else:\n",
    "        fig = ax.get_figure()\n",
    "    bus_carrier = \"AC\"\n",
    "    p = (\n",
    "        n.statistics.energy_balance(aggregate_time=False, bus_carrier=bus_carrier)\n",
    "        .dropna(how=\"all\")\n",
    "        .groupby(\"carrier\")\n",
    "        .sum()\n",
    "        .div(PLOT_SUPPLY)\n",
    "        # .drop(\"-\")\n",
    "        .T\n",
    "    )\n",
    "\n",
    "    p = p.loc[start_date:end_date]\n",
    "    p.rename(columns={\"-\": \"Load\", \"AC\": \"transmission losses\"}, inplace=True)\n",
    "\n",
    "    # aggreg fossil\n",
    "    if aggregate_fossil:\n",
    "        coal = p.filter(regex=\"[C|c]oal\")\n",
    "        p.drop(columns=coal.columns, inplace=True)\n",
    "        p[\"Coal\"] = coal.sum(axis=1)\n",
    "        gas = p.filter(regex=\"[G|g]as\")\n",
    "        p.drop(columns=gas.columns, inplace=True)\n",
    "        p[\"Gas\"] = gas.sum(axis=1)\n",
    "\n",
    "    extra_c = {\n",
    "        \"Load\": plot_config[\"tech_colors\"][\"electric load\"],\n",
    "        \"transmission losses\": plot_config[\"tech_colors\"][\"transmission losses\"],\n",
    "    }\n",
    "    nice_tech_colors = make_nice_tech_colors(plot_config[\"tech_colors\"], plot_config[\"nice_names\"])\n",
    "    color_series = get_stat_colors(n, nice_tech_colors, extra_colors=extra_c)\n",
    "    # color_series.rename({\"H2 Turbine\": \"H2 turbine\"}, inplace=True)\n",
    "    # colors & names part 1\n",
    "    p.rename(plot_config[\"nice_names\"], inplace=True)\n",
    "    p.rename(columns={k: k.title() for k in p.columns}, inplace=True)\n",
    "    color_series.index = color_series.index.str.strip()\n",
    "    # split into supply and wothdrawal\n",
    "    supply = p.where(p > 0).dropna(axis=1, how=\"all\")\n",
    "    charge = p.where(p < 0).dropna(how=\"all\", axis=1)\n",
    "\n",
    "    # fix names and order\n",
    "    charge.rename(columns={\"Battery Storage\": \"Battery\"}, inplace=True)\n",
    "    supply.rename(columns={\"Battery Discharger\": \"Battery\"}, inplace=True)\n",
    "    color_series = color_series[charge.columns.union(supply.columns)]\n",
    "    color_series.rename(\n",
    "        {\"Battery Discharger\": \"Battery\", \"Battery Storage\": \"Battery\",},\n",
    "        inplace=True,\n",
    "    )\n",
    "    # Deduplicate color_series\n",
    "    color_series = color_series[~color_series.index.duplicated(keep=\"first\")]\n",
    "    color_series.index = color_series.index.str.title()\n",
    "\n",
    "    preferred_order = plot_config[\"preferred_order\"]\n",
    "    plot_order = (\n",
    "        supply.columns.intersection(preferred_order).to_list()\n",
    "        + supply.columns.difference(preferred_order).to_list()\n",
    "    )\n",
    "\n",
    "    plot_order_charge = [name for name in preferred_order if name in charge.columns] + [\n",
    "        name for name in charge.columns if name not in preferred_order\n",
    "    ]\n",
    "    supply = supply.reindex(columns=plot_order)\n",
    "\n",
    "    curtailed = n.statistics.curtailment(aggregate_time=False, bus_carrier=\"AC\").droplevel(0).div(PLOT_SUPPLY)\n",
    "    opt_cap = n.statistics.optimal_capacity(comps = [\"Generator\", \"Link\"], bus_carrier=\"AC\").droplevel(0).div(PLOT_SUPPLY)\n",
    "    opt_cap.drop(\"AC\", inplace=True)\n",
    "    missing = list(set(opt_cap.index).difference(curtailed.index))\n",
    "   \n",
    "    reserve = opt_cap[[x for x in missing if x in supply.columns]] - supply[[x for x in missing if x in supply.columns]]\n",
    "    reserve=pd.concat([curtailed.T, reserve], axis=1)\n",
    "\n",
    "    # build reserves and supply\n",
    "    common_index = reserve.index.intersection(supply.index)\n",
    "    supply_plot = supply.loc[common_index, :]\n",
    "    reserve_plot = reserve.loc[common_index, :]\n",
    "    stacked_df = pd.concat([supply_plot, reserve_plot], axis=1, keys=['Supply', 'Reserve'])\n",
    "    # Flatten columns for plotting\n",
    "    stacked_df.columns = [f\"{grp} {col}\" for grp, col in stacked_df.columns]\n",
    " \n",
    "    sequence = [c.replace(\"Supply \",\"\").replace(\"Reserve \",\"\") for c in stacked_df.columns]\n",
    "    colors_ = [color_series[c] if c in color_series.index else NAN_COLOR for c in sequence ]\n",
    "    alpha_supply = 0.85\n",
    "    stacked_df.plot.area(stacked=True, figsize=(14,6), alpha=alpha_supply, ax = ax, color=colors_)\n",
    "    ax.set_title('Supply and Reserve')\n",
    "\n",
    "    charge = charge.reindex(columns=plot_order_charge)\n",
    "\n",
    "    if not charge.empty:\n",
    "        charge.plot.area(ax=ax, linewidth=0, color=color_series.loc[charge.columns])\n",
    "\n",
    "    if add_load_line:\n",
    "\n",
    "        charge[\"load_pos\"] = charge[\"Load\"] * -1\n",
    "        charge[\"load_pos\"].plot(linewidth=2, color=\"black\", label=\"Load\", ax=ax, linestyle=\"--\")\n",
    "        charge.drop(columns=\"load_pos\", inplace=True)\n",
    "\n",
    "    # ax.legend(ncol=1, loc=\"center left\", bbox_to_anchor=(1, 0.5), frameon=False, fontsize=16)\n",
    "    ax.set_ylabel(PLOT_SUPPLY_LABEL)\n",
    "    ax.set_ylim(charge.sum(axis=1).min() * 1.07, stacked_df.sum(axis=1).max() * 1.07)\n",
    "    ax.grid(axis=\"y\")\n",
    "    ax.set_xlim(supply.index.min(), supply.index.max())\n",
    "    ax.set_xlabel(\"\")\n",
    "\n",
    "    # Make reserve semi-transparent\n",
    "    alpha_reserve = 0.3\n",
    "    # Simplify legend: only show supply blocks, add custom patches for supply and reserve\n",
    "    handles = []\n",
    "    # Do not add reserve columns to legend\n",
    "    for col in stacked_df.columns:\n",
    "        if not col.startswith('Reserve'):\n",
    "            color = ax.collections[stacked_df.columns.get_loc(col) ].get_facecolor()[0]\n",
    "            handles.append(Patch(facecolor=color, alpha=alpha_supply, label=col.replace('Supply ', '')))\n",
    "    for col in charge.columns:\n",
    "            # Find the corresponding color in the ax.collections\n",
    "        offset = len(ax.collections) - len(charge.columns)\n",
    "        color = ax.collections[charge.columns.get_loc(col)+offset].get_facecolor()[0]\n",
    "        handles.append(Patch(facecolor=color, alpha=alpha_supply, label=col))\n",
    "\n",
    "    for i, col in enumerate(stacked_df.columns):\n",
    "        if col.startswith('Reserve'):\n",
    "            ax.collections[i].set_alpha(alpha_reserve)\n",
    "            ax.collections[i].set_hatch(hatch)\n",
    "            ax.collections[i].set_edgecolor('k')\n",
    "\n",
    "    # Add custom patches for supply and reserve\n",
    "    handles.append(Patch(facecolor='white', edgecolor=\"white\", alpha=0, label='\\n'))\n",
    "    handles.append(Line2D([0], [0], color='black', linewidth=3, linestyle='--', label='Load'))\n",
    "    handles.append(Patch(facecolor='grey', alpha=alpha_supply, label='Supply'))\n",
    "    handles.append(Patch(facecolor='grey', alpha=alpha_reserve, label='Reserve', hatch=hatch))\n",
    "    handles.append(Patch(edgecolor=\"white\", alpha=0, label='\\n'))\n",
    "    ax.legend(handles=handles, ncol=1, loc=\"center left\", bbox_to_anchor=(1, 0.5), frameon=False, fontsize=12)\n",
    "\n",
    "\n",
    "    fig.tight_layout()\n",
    "\n",
    "    return ax\n",
    "\n",
    "ax  = plot_reserves(n, config[\"plotting\"],add_load_line=True, start_date=f\"{PLANNING_YEAR}-12-11 21:00\", end_date=f\"{PLANNING_YEAR}-12-18 12:00:00\")"
   ]
  },
  {
   "cell_type": "code",
   "execution_count": null,
   "metadata": {},
   "outputs": [],
   "source": [
    "load = n.statistics.withdrawal(comps=\"Load\", bus_carrier=\"AC\", aggregate_time=False).T\n"
   ]
  },
  {
   "cell_type": "code",
   "execution_count": null,
   "metadata": {},
   "outputs": [],
   "source": [
    "with io.capture_output() as captured:\n",
    "    ax = plot_energy_balance(\n",
    "        n,\n",
    "        config[\"plotting\"],\n",
    "        start_date=f\"{PLANNING_YEAR}-12-11 21:00\",\n",
    "        end_date=f\"{PLANNING_YEAR}-12-18 12:00:00\",\n",
    "    )\n",
    "    ax.grid(axis=\"y\")\n",
    "    ax.set_title(\"Electricity Balance\")"
   ]
  },
  {
   "cell_type": "markdown",
   "metadata": {},
   "source": [
    "## price series"
   ]
  },
  {
   "cell_type": "code",
   "execution_count": null,
   "metadata": {},
   "outputs": [],
   "source": [
    "# from constants import PROV_NAMES\n",
    "# marginal_price_series = n.buses_t[\"marginal_price\"][PROV_NAMES]\n",
    "# prov_max_price_series = marginal_price_series.T.max()\n",
    "# prov_min_price_series = marginal_price_series.T.min()\n",
    "# spread = marginal_price_series.T.max()-marginal_price_series.T.min()\n",
    "# load_ac = n.statistics.withdrawal(bus_carrier=\"AC\", aggregate_time=False, groupby=\"location\", comps = \"Load\")\n",
    "\n",
    "# regional_weighed_price = marginal_price_series.T.mul(load_ac).T.sum()/load_ac.T.sum()\n",
    "# order =regional_weighed_price.sort_values().index\n",
    "\n",
    "# weighed_prices = (marginal_price_series.T.mul(load_ac)/load_ac.sum()).sum()\n",
    "# ax = marginal_price_series[order].plot(alpha=0.5, lw=2, legend=False, cmap=\"plasma\")\n",
    "# weighed_prices.plot(ax = ax, lw=3, c=\"black\", label = \"weighted price avg\", alpha =0.8, ls = \"--\")\n",
    "# ax.legend(  loc='upper left', bbox_to_anchor=(1, 1), ncols=2);"
   ]
  },
  {
   "cell_type": "code",
   "execution_count": null,
   "metadata": {},
   "outputs": [],
   "source": [
    "from _plot_utilities import find_weeks_of_interest\n",
    "from constants import PROV_NAMES\n",
    "\n",
    "winter_week, summer_week = find_weeks_of_interest(\n",
    "    n, f\"{PLANNING_YEAR}-04-01\", f\"{PLANNING_YEAR}-10-06\"\n",
    ")\n",
    "marginal_price_series = n.buses_t[\"marginal_price\"][PROV_NAMES]\n",
    "prov_max_price_series = marginal_price_series.T.max()\n",
    "prov_min_price_series = marginal_price_series.T.min()\n",
    "spread = marginal_price_series.T.max() - marginal_price_series.T.min()\n",
    "load_ac = n.statistics.withdrawal(\n",
    "    bus_carrier=\"AC\", aggregate_time=False, groupby=\"location\", comps=\"Load\"\n",
    ")\n",
    "weighed_prices = (marginal_price_series.T.mul(load_ac) / load_ac.sum()).sum()\n",
    "\n",
    "\n",
    "ax = prov_min_price_series.loc[summer_week].plot(\n",
    "    label=\"Marginal price\\n(least expensive province)\"\n",
    ")\n",
    "prov_max_price_series.loc[summer_week].plot(\n",
    "    label=\"Marginal price\\n(most expensive province)\", ax=ax\n",
    ")\n",
    "# spread.loc[summer_week].plot(label = \"Price spread\", ax =ax, ls= \"--\")\n",
    "ax.set_ylabel(\"Price [€/MWh]\")\n",
    "# ax.vlines(winter_week[len(winter_week)//2], 0,prov_max_price_series.max()*1.2, color=\"black\", ls = \"--\", label=\"peak event\")\n",
    "ax.vlines(\n",
    "    summer_week[len(summer_week) // 2],\n",
    "    0,\n",
    "    prov_max_price_series.loc[summer_week].max() * 1.2,\n",
    "    color=\"black\",\n",
    "    ls=\"--\",\n",
    "    label=\"peak event\",\n",
    ")\n",
    "\n",
    "weighed_prices.loc[summer_week].plot(ax=ax, label=\"national mean weighted price\")\n",
    "ax.legend(bbox_to_anchor=(1.05, 1), loc=\"upper left\", title=\"Legend\")"
   ]
  },
  {
   "cell_type": "markdown",
   "metadata": {},
   "source": [
    "## Prices - balance overlay"
   ]
  },
  {
   "cell_type": "code",
   "execution_count": null,
   "metadata": {},
   "outputs": [],
   "source": [
    "peak_pr_provinces_hrs_winter = pd.concat(\n",
    "    [\n",
    "        marginal_price_series.loc[winter_week].T.idxmax(),\n",
    "        marginal_price_series.loc[winter_week].T.max(),\n",
    "    ],\n",
    "    axis=1,\n",
    ")\n",
    "peak_pr_provinces_hrs_summer = pd.concat(\n",
    "    [\n",
    "        marginal_price_series.loc[summer_week].T.idxmax(),\n",
    "        marginal_price_series.loc[summer_week].T.max(),\n",
    "    ],\n",
    "    axis=1,\n",
    ");"
   ]
  },
  {
   "cell_type": "code",
   "execution_count": null,
   "metadata": {},
   "outputs": [],
   "source": [
    "with io.capture_output() as captured:\n",
    "    fig, axes = plt.subplots(2, 1, figsize=(10, 8), sharex=True)\n",
    "    ax0 = axes[0]\n",
    "    plot_energy_balance(\n",
    "        n,\n",
    "        config[\"plotting\"],\n",
    "        start_date=str(winter_week[0]),\n",
    "        end_date=str(winter_week[-1]),\n",
    "        ax=axes[0],\n",
    "    )\n",
    "    ax0.grid(axis=\"y\")\n",
    "    ax0.set_title(\"Electricity Balance - worst week winter\")\n",
    "    ax2 = axes[1]\n",
    "    peak_pr_provinces_hrs_winter[1].plot(\n",
    "        ax=ax2, color=\"red\", lw=2, ls=\"--\", label=\"Most exp Prov (labeled)\"\n",
    "    )\n",
    "    weighed_prices.loc[winter_week].plot(\n",
    "        ax=ax2, color=\"k\", lw=3, ls=\"-\", label=\"National weighted price\"\n",
    "    )\n",
    "    ax2.set_ylabel(\"PriceEur/MWh\", color=\"red\")\n",
    "    ax2.tick_params(axis=\"y\", labelcolor=\"red\")\n",
    "    # Move the existing legend to the right\n",
    "    handles, labels = ax0.get_legend_handles_labels()\n",
    "    handles2, labels2 = ax2.get_legend_handles_labels()\n",
    "\n",
    "    ax0.legend(\n",
    "        handles + handles2,\n",
    "        labels + labels2,\n",
    "        loc=\"center left\",\n",
    "        bbox_to_anchor=(1.1, 0.5),\n",
    "        fontsize=10,\n",
    "    )\n",
    "    fig.tight_layout()\n",
    "    fig.subplots_adjust(hspace=0, wspace=10)\n",
    "\n",
    "\n",
    "# annotate points in axis\n",
    "i = 0\n",
    "prev = \"\"\n",
    "for idx, row in peak_pr_provinces_hrs_winter.iterrows():\n",
    "    i += 1\n",
    "    # if i%2==0:\n",
    "    #     offset = -5*len(row[0])\n",
    "    # else:\n",
    "    offset = 10\n",
    "    if i % 3 != 0:\n",
    "        continue\n",
    "    if row[0] == prev:\n",
    "        continue\n",
    "    ax2.annotate(\n",
    "        row[0],\n",
    "        xy=(idx, row[1]),\n",
    "        textcoords=\"offset points\",\n",
    "        xytext=(0, offset),\n",
    "        ha=\"center\",\n",
    "        fontsize=6,\n",
    "        rotation=90,\n",
    "    )\n",
    "    prev = row[0]\n",
    "\n",
    "ax2.set_xlabel(\"\")"
   ]
  },
  {
   "cell_type": "code",
   "execution_count": null,
   "metadata": {},
   "outputs": [],
   "source": [
    "with io.capture_output() as captured:\n",
    "    fig, axes = plt.subplots(2, 1, figsize=(10, 8), sharex=True)\n",
    "    ax0 = axes[0]\n",
    "    plot_energy_balance(\n",
    "        n,\n",
    "        config[\"plotting\"],\n",
    "        start_date=str(summer_week[0]),\n",
    "        end_date=str(summer_week[-1]),\n",
    "        ax=axes[0],\n",
    "    )\n",
    "    ax0.grid(axis=\"y\")\n",
    "    ax0.set_title(\"Electricity Balance - worst week summer\")\n",
    "    ax2 = axes[1]\n",
    "    peak_pr_provinces_hrs_summer[1].plot(\n",
    "        ax=ax2, color=\"red\", lw=2, ls=\"--\", label=\"Most exp Prov (labeled)\"\n",
    "    )\n",
    "    weighed_prices.loc[summer_week].plot(\n",
    "        ax=ax2, color=\"k\", lw=3, ls=\"-\", label=\"National weighted price\"\n",
    "    )\n",
    "    ax2.set_ylabel(\"PriceEur/MWh\", color=\"red\")\n",
    "    ax2.tick_params(axis=\"y\", labelcolor=\"red\")\n",
    "    # Move the existing legend to the right\n",
    "    handles, labels = ax0.get_legend_handles_labels()\n",
    "    handles2, labels2 = ax2.get_legend_handles_labels()\n",
    "\n",
    "    ax0.legend(\n",
    "        handles + handles2,\n",
    "        labels + labels2,\n",
    "        loc=\"center left\",\n",
    "        bbox_to_anchor=(1.1, 0.5),\n",
    "        fontsize=10,\n",
    "    )\n",
    "    fig.tight_layout()\n",
    "    fig.subplots_adjust(hspace=0, wspace=10)\n",
    "\n",
    "\n",
    "# annotate points in axis\n",
    "i = 0\n",
    "prev = \"\"\n",
    "for idx, row in peak_pr_provinces_hrs_summer.iterrows():\n",
    "    i += 1\n",
    "    # if i%2==0:\n",
    "    #     offset = -5*len(row[0])\n",
    "    # else:\n",
    "    offset = 10\n",
    "    if i % 3 != 0:\n",
    "        continue\n",
    "    if row[0] == prev:\n",
    "        continue\n",
    "    ax2.annotate(\n",
    "        row[0],\n",
    "        xy=(idx, row[1]),\n",
    "        textcoords=\"offset points\",\n",
    "        xytext=(0, offset),\n",
    "        ha=\"center\",\n",
    "        fontsize=7,\n",
    "        rotation=90,\n",
    "    )\n",
    "    prev = row[0]\n",
    "\n",
    "ax2.set_xlabel(\"\")"
   ]
  },
  {
   "cell_type": "code",
   "execution_count": null,
   "metadata": {
    "slideshow": {
     "slide_type": "slide"
    }
   },
   "outputs": [],
   "source": [
    "with io.capture_output() as captured:\n",
    "    ax = plot_energy_balance(\n",
    "        n,\n",
    "        config[\"plotting\"],\n",
    "        start_date=str(winter_week[0]),\n",
    "        end_date=str(winter_week[-1]),\n",
    "    )\n",
    "    ax.grid(axis=\"y\")\n",
    "    ax.set_title(\"Electricity Balance - worst week winter\")\n",
    "    ax2 = ax.twinx()\n",
    "    prov_max_price_series.loc[winter_week].plot(\n",
    "        ax=ax2, color=\"red\", lw=4, ls=\"--\", label=\"Most exp Prov\"\n",
    "    )\n",
    "    weighed_prices.loc[winter_week].plot(\n",
    "        ax=ax2, color=\"blue\", lw=4, ls=\":\", label=\"National weighted price\"\n",
    "    )\n",
    "    fig = ax.get_figure()\n",
    "    ax2.set_ylabel(\"PriceEur/MWh\", color=\"red\")\n",
    "    ax2.tick_params(axis=\"y\", labelcolor=\"red\")\n",
    "    ax2.set_ylim([0, prov_max_price_series.loc[winter_week].max() * 3])\n",
    "    # Move the existing legend to the right\n",
    "    handles, labels = ax.get_legend_handles_labels()\n",
    "    handles2, labels2 = ax2.get_legend_handles_labels()\n",
    "    ax.legend(\n",
    "        handles + handles2,\n",
    "        labels + labels2,\n",
    "        loc=\"center left\",\n",
    "        bbox_to_anchor=(1.1, 0.5),\n",
    "    )"
   ]
  },
  {
   "cell_type": "code",
   "execution_count": null,
   "metadata": {
    "slideshow": {
     "slide_type": "slide"
    }
   },
   "outputs": [],
   "source": [
    "with io.capture_output() as captured:\n",
    "    ax = plot_energy_balance(\n",
    "        n,\n",
    "        config[\"plotting\"],\n",
    "        start_date=str(summer_week[0]),\n",
    "        end_date=str(summer_week[-1]),\n",
    "    )\n",
    "    ax.grid(axis=\"y\")\n",
    "    ax.set_title(\"Electricity Balance - worst week summer\")\n",
    "    ax2 = ax.twinx()\n",
    "    prov_max_price_series.loc[summer_week].plot(\n",
    "        ax=ax2, color=\"red\", lw=2, ls=\"--\", label=\"Most exp Prov\"\n",
    "    )\n",
    "    weighed_prices.loc[summer_week].plot(\n",
    "        ax=ax2, color=\"white\", lw=3, ls=\":\", label=\"National weighted price\"\n",
    "    )\n",
    "    fig = ax.get_figure()\n",
    "    ax2.set_ylabel(\"PriceEur/MWh\", color=\"red\")\n",
    "    ax2.tick_params(axis=\"y\", labelcolor=\"red\")\n",
    "    ax2.set_ylim([0, prov_max_price_series.loc[winter_week].mean() * 3])\n",
    "    # Move the existing legend to the right\n",
    "    handles, labels = ax.get_legend_handles_labels()\n",
    "    handles2, labels2 = ax2.get_legend_handles_labels()\n",
    "    ax.legend(\n",
    "        handles + handles2,\n",
    "        labels + labels2,\n",
    "        loc=\"center left\",\n",
    "        bbox_to_anchor=(1.1, 0.5),\n",
    "    )"
   ]
  },
  {
   "cell_type": "markdown",
   "metadata": {},
   "source": []
  },
  {
   "cell_type": "code",
   "execution_count": null,
   "metadata": {},
   "outputs": [],
   "source": [
    "if snakemake.config[\"heat_coupling\"]:\n",
    "    ax = plot_energy_balance(\n",
    "        n,\n",
    "        config[\"plotting\"],\n",
    "        start_date=f\"{PLANNING_YEAR}-03-31 21:00\",\n",
    "        end_date=f\"{PLANNING_YEAR}-09-06 12:00:00\",\n",
    "        bus_carrier=\"heat\",\n",
    "    )\n",
    "    ax.set_title(\"Heat balance\")\n",
    "    ax2 = ax.twinx()\n",
    "    prov_max_price_series.loc[\n",
    "        f\"{PLANNING_YEAR}-03-31 21:00\" : f\"{PLANNING_YEAR}-09-06 12:00:00\"\n",
    "    ].plot(ax=ax2, color=\"red\", lw=2, ls=\"--\", label=\"Most exp Prov\")\n",
    "    weighed_prices.loc[\n",
    "        f\"{PLANNING_YEAR}-03-31 21:00\" : f\"{PLANNING_YEAR}-09-06 12:00:00\"\n",
    "    ].plot(ax=ax2, color=\"blue\", lw=3, ls=\":\", label=\"National weighted price\")\n",
    "    prov_min_price_series.loc[\n",
    "        f\"{PLANNING_YEAR}-03-31 21:00\" : f\"{PLANNING_YEAR}-09-06 12:00:00\"\n",
    "    ].plot(ax=ax2, color=\"green\", lw=2, ls=\"--\", label=\"Least exp Prov\")\n",
    "\n",
    "    fig = ax.get_figure()\n",
    "    ax2.set_ylabel(\"PriceEur/MWh\", color=\"red\")\n",
    "    ax2.tick_params(axis=\"y\", labelcolor=\"red\")\n",
    "    ax2.set_ylim(\n",
    "        [\n",
    "            0,\n",
    "            prov_max_price_series.loc[\n",
    "                f\"{PLANNING_YEAR}-03-31 21:00\" : f\"{PLANNING_YEAR}-09-06 12:00:00\"\n",
    "            ].max()\n",
    "            * 3,\n",
    "        ]\n",
    "    )\n",
    "    # Move the existing legend to the right\n",
    "    handles, labels = ax.get_legend_handles_labels()\n",
    "    handles2, labels2 = ax2.get_legend_handles_labels()\n",
    "    ax.legend(\n",
    "        handles + handles2,\n",
    "        labels + labels2,\n",
    "        loc=\"center left\",\n",
    "        bbox_to_anchor=(1.1, 0.5),\n",
    "    )"
   ]
  },
  {
   "cell_type": "code",
   "execution_count": null,
   "metadata": {},
   "outputs": [],
   "source": [
    "if snakemake.config[\"heat_coupling\"]:\n",
    "    ax = plot_energy_balance(\n",
    "        n,\n",
    "        config[\"plotting\"],\n",
    "        start_date=f\"{PLANNING_YEAR}-01-01 00:00\",\n",
    "        end_date=f\"{PLANNING_YEAR}-12-31 23:00:00\",\n",
    "        bus_carrier=\"heat\",\n",
    "    )\n",
    "    ax.set_title(\"Heat balance\")"
   ]
  },
  {
   "cell_type": "code",
   "execution_count": null,
   "metadata": {},
   "outputs": [],
   "source": [
    "from plot_time_series import (\n",
    "    plot_load_duration_curve,\n",
    "    plot_regional_load_durations,\n",
    "    plot_residual_load_duration_curve,\n",
    ")"
   ]
  },
  {
   "cell_type": "markdown",
   "metadata": {
    "slideshow": {
     "slide_type": "slide"
    }
   },
   "source": [
    "# LOAD DURATION CURVES"
   ]
  },
  {
   "cell_type": "code",
   "execution_count": null,
   "metadata": {
    "slideshow": {
     "slide_type": "slide"
    }
   },
   "outputs": [],
   "source": [
    "fig, ax = plt.subplots(1, 2, figsize=(10, 6), sharey=True)\n",
    "plot_load_duration_curve(n, carrier=\"AC\", ax=ax[0])\n",
    "plot_residual_load_duration_curve(n, ax=ax[1])\n",
    "fig.tight_layout()"
   ]
  },
  {
   "cell_type": "code",
   "execution_count": null,
   "metadata": {
    "slideshow": {
     "slide_type": "slide"
    }
   },
   "outputs": [],
   "source": [
    "with io.capture_output() as captured:\n",
    "    plot_regional_load_durations(n, carrier=\"AC\", cmap=\"viridis\")"
   ]
  },
  {
   "cell_type": "markdown",
   "metadata": {},
   "source": [
    "## Power flows map"
   ]
  },
  {
   "cell_type": "code",
   "execution_count": null,
   "metadata": {},
   "outputs": [],
   "source": [
    "from _pypsa_helpers import get_location_and_carrier\n",
    "\n",
    "transmission = (\n",
    "    n.statistics.transmission(\n",
    "        bus_carrier=\"AC\",\n",
    "        groupby=get_location_and_carrier,\n",
    "        aggregate_time=False,\n",
    "    )\n",
    "    / 1e6\n",
    ")  # # convert to TW\n",
    "transm_tot = transmission.T.sum().reset_index()\n",
    "transm_tot = (\n",
    "    transm_tot.set_index(\"location\")\n",
    "    .rename(columns={0: \"HV transmission\"})\n",
    "    .sort_values(by=\"HV transmission\")\n",
    ")\n",
    "regi_transmission = transmission.groupby(\"location\").sum().loc[transm_tot.index[::-1]]"
   ]
  },
  {
   "cell_type": "code",
   "execution_count": null,
   "metadata": {
    "slideshow": {
     "slide_type": "slide"
    }
   },
   "outputs": [],
   "source": [
    "ax = regi_transmission.T.loc[\n",
    "    f\"{PLANNING_YEAR}-07-20\" : f\"{PLANNING_YEAR}-07-27\"\n",
    "].plot.area(stacked=True, cmap=\"magma_r\")\n",
    "ax.legend(loc=\"center left\", bbox_to_anchor=(1, 0.5), title=\"Prov\", ncols=2)\n",
    "ax.set_ylabel(\"Transmission [TWh]\");"
   ]
  },
  {
   "cell_type": "code",
   "execution_count": null,
   "metadata": {},
   "outputs": [],
   "source": [
    "ax = transm_tot.plot.bar(y=\"HV transmission\")\n",
    "ax.set_ylabel(\"HV Transmission / MWHr\");"
   ]
  },
  {
   "cell_type": "markdown",
   "metadata": {},
   "source": [
    "### Plot cap factors time series"
   ]
  },
  {
   "cell_type": "code",
   "execution_count": null,
   "metadata": {},
   "outputs": [],
   "source": [
    "capacity_factors = (\n",
    "    n.statistics.capacity_factor(aggregate_time=False).loc[[\"Generator\"]].droplevel(0).T\n",
    ")\n",
    "colors_lowered = {\n",
    "    k.lower().rstrip(): v for k, v in config[\"plotting\"][\"tech_colors\"].items()\n",
    "}\n",
    "cap_colors = {\n",
    "    k: colors_lowered.get(k.lower().rstrip(), \"lightgrey\")\n",
    "    for k in [c for c in capacity_factors.columns]\n",
    "}"
   ]
  },
  {
   "cell_type": "code",
   "execution_count": null,
   "metadata": {
    "slideshow": {
     "slide_type": "slide"
    }
   },
   "outputs": [],
   "source": [
    "axes = (\n",
    "    capacity_factors.dropna(axis=1, how=\"all\")\n",
    "    .fillna(0)\n",
    "    .plot(subplots=True, figsize=(10, 10), color=cap_colors)\n",
    ")\n",
    "for ax in axes:\n",
    "    ax.set_ylim([0, 1.1])\n",
    "    ax.set_yticks([0, 0.3, 0.6, 1])"
   ]
  },
  {
   "cell_type": "code",
   "execution_count": null,
   "metadata": {},
   "outputs": [],
   "source": [
    "region_rev = n.statistics.revenue(\n",
    "    groupby=[\"location\", \"carrier\"], bus_carrier=\"AC\", aggregate_time=False\n",
    ").fillna(0)\n",
    "rev_regional = region_rev[(region_rev < 0).all(axis=1)].groupby(\"location\").sum().T\n",
    "weighting = n.snapshot_weightings.iloc[0, 0]\n",
    "prod_reg = (\n",
    "    n.statistics.energy_balance(\n",
    "        comps=[\"Load\", \"Link\", \"Generator\"],\n",
    "        groupby=[\"location\", \"carrier\"],\n",
    "        bus_carrier=\"AC\",\n",
    "        aggregate_time=False,\n",
    "    )\n",
    "    * weighting\n",
    ")\n",
    "prod_reg = prod_reg.fillna(0)\n",
    "consum_regional = prod_reg.query(\"component=='Load'\").groupby(\"location\").sum().T\n",
    "balance = prod_reg.groupby(\"location\").sum().T\n",
    "supp_regional = prod_reg.query(\"component!='Load'\").groupby(\"location\").sum().T"
   ]
  },
  {
   "cell_type": "code",
   "execution_count": null,
   "metadata": {
    "slideshow": {
     "slide_type": "slide"
    }
   },
   "outputs": [],
   "source": [
    "data = pd.concat(\n",
    "    [supp_regional.sum(), -1 * consum_regional.sum(), balance.sum()], axis=1\n",
    ")\n",
    "data.columns = [\"Supply\", \"Consum\", \"Balance\"]\n",
    "data = data.query(\"index != ''\")  # no location assigned\n",
    "fig, ax = plt.subplots(figsize=(10, 6))\n",
    "bar_width = 0.25\n",
    "x = np.arange(len(data.index))\n",
    "data = data / 1e6\n",
    "ax.bar(x - bar_width, data[\"Supply\"], width=bar_width, label=\"Supply\")\n",
    "ax.bar(x, data[\"Consum\"], width=bar_width, label=\"Consum\")\n",
    "ax.bar(x + bar_width, data[\"Balance\"], width=bar_width, label=\"Balance\")\n",
    "\n",
    "ax.set_xticks(x)\n",
    "ax.set_xticklabels(data.index, rotation=60, horizontalalignment=\"center\", fontsize=11)\n",
    "ax.legend()\n",
    "ax.set_ylabel(\"Energy [TWh]\", fontsize=12)\n",
    "ax.set_ylim(data.min().min(), data.max().max() * 1.1)\n",
    "fig.tight_layout()\n",
    "plt.show()"
   ]
  },
  {
   "cell_type": "code",
   "execution_count": null,
   "metadata": {},
   "outputs": [],
   "source": [
    "max_val = max(supp_regional.max().max(), -1 * consum_regional.max().max())\n",
    "\n",
    "norm_price = n.buses_t[\"marginal_price\"][PROV_NAMES].loc[\n",
    "    f\"{PLANNING_YEAR}-07-22\" : f\"{PLANNING_YEAR}-07-28\"\n",
    "]\n",
    "norm_price /= norm_price.max()\n",
    "norm_price *= (consum_regional * -1e-6).loc[\n",
    "    f\"{PLANNING_YEAR}-07-22\" : f\"{PLANNING_YEAR}-07-28\"\n",
    "].max().max() * 0.8\n",
    "consum_regional = consum_regional[PROV_NAMES]"
   ]
  },
  {
   "cell_type": "code",
   "execution_count": null,
   "metadata": {},
   "outputs": [],
   "source": [
    "def plot_sufficience_panels(consum_regional, supp_regional):\n",
    "    fig, axes = plt.subplots(6, 6, sharex=True, sharey=True, figsize=(20, 20))\n",
    "    for i, c in enumerate(consum_regional.columns):\n",
    "        k, l = (i + 4) // 6, (i + 4) % 6\n",
    "        (consum_regional[c] * -1e-3).loc[\n",
    "            f\"{PLANNING_YEAR}-07-22\" : f\"{PLANNING_YEAR}-07-28\"\n",
    "        ].plot(ax=axes[k, l])\n",
    "        (supp_regional[c] * 1e-3).loc[\n",
    "            f\"{PLANNING_YEAR}-07-22\" : f\"{PLANNING_YEAR}-07-28\"\n",
    "        ].plot(ax=axes[k, l], color=\"orange\", alpha=0.5)\n",
    "        axes[k, l].set_title(c)\n",
    "        axes[k, l].set_ylim(0, max_val * 1e-3)\n",
    "\n",
    "        if l == 0:\n",
    "            axes[k, l].set_ylabel(\"Withdrawal or supply [GWh]\")\n",
    "        if k == 0:\n",
    "            axes[k, l].set_xlabel(\"Time\")\n",
    "    axes[0, 4].legend([\"Withdrawal (blue)\", \"Supply (orange)\"])\n",
    "    fig.tight_layout()\n",
    "    fig.subplots_adjust(hspace=0.15, wspace=0.1)\n",
    "\n",
    "\n",
    "def plot_exports_panels(exports_regional, norm_price):\n",
    "    fig, axes = plt.subplots(6, 6, sharex=True, sharey=True, figsize=(20, 20))\n",
    "\n",
    "    for i, c in enumerate(exports_regional.columns):\n",
    "        k, l = (i + 4) // 6, (i + 4) % 6\n",
    "        exports = (exports_regional[c] * 1e-3).loc[\n",
    "            f\"{PLANNING_YEAR}-12-22\" : f\"{PLANNING_YEAR}-12-28\"\n",
    "        ]\n",
    "        exports.plot(ax=axes[k, l], color=\"orange\", alpha=1)\n",
    "        if c in norm_price.columns:\n",
    "            norm_price[c].plot(\n",
    "                ax=axes[k, l], color=\"green\", alpha=0.5, legend=False, ls=\"--\"\n",
    "            )\n",
    "\n",
    "        axes[k, l].set_title(c)\n",
    "        # axes[k,l].set_ylim( exports.min(), exports.max())\n",
    "        axes[k, l].axhline(0, color=\"black\", lw=1)\n",
    "        if l == 0:\n",
    "            axes[k, l].set_ylabel(\"Balance [GWh] \\n Norm Price (green)\")\n",
    "        if k == 0:\n",
    "            axes[k, l].set_xlabel(\"Time\")\n",
    "    axes[0, 4].legend([\"Exports\"])\n",
    "    fig.tight_layout()\n",
    "    fig.subplots_adjust(hspace=0.2, wspace=0.1)"
   ]
  },
  {
   "cell_type": "code",
   "execution_count": null,
   "metadata": {
    "slideshow": {
     "slide_type": "slide"
    }
   },
   "outputs": [],
   "source": [
    "PLOT_VIGNETTES = False\n",
    "if PLOT_VIGNETTES:\n",
    "    plot_sufficience_panels(consum_regional, supp_regional)"
   ]
  },
  {
   "cell_type": "code",
   "execution_count": null,
   "metadata": {},
   "outputs": [],
   "source": [
    "exports_regional = balance\n",
    "max_val = balance.max().max()\n",
    "norm_price = n.buses_t[\"marginal_price\"][PROV_NAMES].loc[\n",
    "    f\"{PLANNING_YEAR}-12-22\" : f\"{PLANNING_YEAR}-12-28\"\n",
    "]\n",
    "norm_price /= norm_price.max()\n",
    "norm_price *= max_val * 0.3e-3"
   ]
  },
  {
   "cell_type": "code",
   "execution_count": null,
   "metadata": {
    "slideshow": {
     "slide_type": "slide"
    }
   },
   "outputs": [],
   "source": [
    "if PLOT_VIGNETTES:\n",
    "    plot_exports_panels(exports_regional, norm_price)"
   ]
  },
  {
   "cell_type": "markdown",
   "metadata": {},
   "source": [
    "# Capacity factors"
   ]
  },
  {
   "cell_type": "code",
   "execution_count": null,
   "metadata": {},
   "outputs": [],
   "source": [
    "colors_lowered = {\n",
    "    k.lower().rstrip(): v for k, v in config[\"plotting\"][\"tech_colors\"].items()\n",
    "}\n",
    "cap_colors = {\n",
    "    k: colors_lowered.get(k.lower().rstrip(), \"lightgrey\")\n",
    "    for k in [c for c in capacity_factors.columns]\n",
    "}\n",
    "\n",
    "# Apply rolling moving average filter\n",
    "capacity_factors_smoothed = capacity_factors.rolling(window=\"1D\", min_periods=1).mean()\n",
    "\n",
    "axes = (\n",
    "    capacity_factors_smoothed.dropna(axis=1, how=\"all\")\n",
    "    .fillna(0)\n",
    "    .plot(subplots=True, figsize=(10, 12), color=cap_colors)\n",
    ")\n",
    "for ax in axes:\n",
    "    ax.set_ylim([0, 1.1])\n",
    "    ax.set_yticks([0, 0.3, 0.6, 1])\n",
    "axes[3].set_ylabel(\"Capacity Factor (1D average)\")"
   ]
  },
  {
   "cell_type": "markdown",
   "metadata": {},
   "source": [
    "# COSTS & prices"
   ]
  },
  {
   "cell_type": "markdown",
   "metadata": {},
   "source": [
    "## Price duration curve\n"
   ]
  },
  {
   "cell_type": "code",
   "execution_count": null,
   "metadata": {},
   "outputs": [],
   "source": [
    "n.buses.carrier[n.buses.carrier==\"H2\"].index.values"
   ]
  },
  {
   "cell_type": "code",
   "execution_count": null,
   "metadata": {},
   "outputs": [],
   "source": [
    "n.buses.carrier[n.buses.carrier == \"H2\"].index.values"
   ]
  },
  {
   "cell_type": "code",
   "execution_count": null,
   "metadata": {},
   "outputs": [],
   "source": [
    "PLOT_VRE_HEAT_MAPS = False\n",
    "\n",
    "if PLOT_VRE_HEAT_MAPS:\n",
    "    vres = [\"offwind\", \"onwind\", \"solar\"]\n",
    "    vre_avail = (\n",
    "        n.statistics.supply(\n",
    "            comps=\"Generator\",\n",
    "            aggregate_time=False,\n",
    "            bus_carrier=\"AC\",\n",
    "            nice_names=False,\n",
    "            groupby=[\"location\", \"carrier\"],\n",
    "        )\n",
    "        .query(\"carrier in @vres\")\n",
    "        .T.fillna(0)\n",
    "    )\n",
    "\n",
    "    for tech in vres:\n",
    "        tech_avail = vre_avail.T.query(\"carrier == @tech\").T.droplevel(1, axis=1)\n",
    "        tech_avail.index = tech_avail.index.strftime(\"%m-%d %H:%M\")\n",
    "\n",
    "        fig, ax = plt.subplots()\n",
    "        sns.heatmap(tech_avail, ax=ax, cbar_kws={\"label\": \"Availability [MW]\"})\n",
    "        ax.set_title(f\"{tech} availability\")"
   ]
  },
  {
   "cell_type": "code",
   "execution_count": null,
   "metadata": {},
   "outputs": [],
   "source": [
    "if PLOT_VRE_HEAT_MAPS:\n",
    "    vres = [\"offwind\", \"onwind\", \"solar\"]\n",
    "    available_p_u = (\n",
    "        (n.generators_t.p_max_pu * n.generators.p_nom_opt)\n",
    "        .fillna(0)\n",
    "        .T.groupby([n.generators.location, n.generators.carrier])\n",
    "        .sum()\n",
    "        .T\n",
    "    )\n",
    "    available_p_u /= (\n",
    "        n.generators.p_nom_opt.fillna(0)\n",
    "        .T.groupby([n.generators.location, n.generators.carrier])\n",
    "        .sum()\n",
    "    )\n",
    "    available_p_u = available_p_u.T.query(\"carrier in @vres\")\n",
    "\n",
    "    for tech in vres:\n",
    "        tech_avail = available_p_u.query(\"carrier == @tech\").T.droplevel(1, axis=1)\n",
    "        tech_avail = tech_avail.loc[winter_week]\n",
    "        tech_avail.index = tech_avail.index.strftime(\"%m-%d %H:%M\")\n",
    "\n",
    "        fig, ax = plt.subplots()\n",
    "        sns.heatmap(tech_avail, ax=ax, cbar_kws={\"label\": \"Availability [p.u.]\"})\n",
    "        ax.set_title(f\"{tech} availability\")"
   ]
  },
  {
   "cell_type": "code",
   "execution_count": null,
   "metadata": {
    "slideshow": {
     "slide_type": "slide"
    }
   },
   "outputs": [],
   "source": [
    "PLOT_PRICE_DETAILS = False\n",
    "if PLOT_PRICE_DETAILS:\n",
    "    plot_price_heatmap(n, \"AC\", log_values=True, time_range=summer_week)\n",
    "    plot_price_duration_by_node(n, carrier=\"AC\", logy=False)\n",
    "    plot_price_duration_by_node(n, carrier=\"AC\")\n",
    "    plot_price_duration_by_node(\n",
    "        n, carrier=\"H2\", logy=False, fig_shape=(8, 4), y_lower=0\n",
    "    )"
   ]
  },
  {
   "cell_type": "markdown",
   "metadata": {},
   "source": []
  },
  {
   "cell_type": "code",
   "execution_count": null,
   "metadata": {},
   "outputs": [],
   "source": [
    "from plot_summary_all import plot_prices\n",
    "\n",
    "paths = [\n",
    "    os.path.join(results_dir, \"summary\", f\"ntwk_{yr}\")\n",
    "    for yr in snakemake.config[\"scenario\"][\"planning_horizons\"]\n",
    "]\n",
    "data_paths = {\n",
    "    \"energy\": [os.path.join(p, \"energy.csv\") for p in paths],\n",
    "    \"costs\": [os.path.join(p, \"costs.csv\") for p in paths],\n",
    "    \"co2_price\": [os.path.join(p, \"metrics.csv\") for p in paths],\n",
    "    \"time_averaged_prices\": [\n",
    "        os.path.join(p, \"time_averaged_prices.csv\") for p in paths\n",
    "    ],\n",
    "    \"weighted_prices\": [os.path.join(p, \"weighted_prices.csv\") for p in paths],\n",
    "    \"co2_balance\": [os.path.join(p, \"co2_balance.csv\") for p in paths],\n",
    "    \"energy_supply\": [os.path.join(p, \"supply_energy.csv\") for p in paths],\n",
    "    \"capacity\": [os.path.join(p, \"capacities.csv\") for p in paths],\n",
    "}\n",
    "\n",
    "fig, ax = plt.subplots()\n",
    "plot_prices(\n",
    "    data_paths[\"time_averaged_prices\"], config[\"plotting\"], fig_name=None, ax=ax, lw=4\n",
    ")\n",
    "\n",
    "fig, ax = plt.subplots()\n",
    "plot_prices(\n",
    "    data_paths[\"weighted_prices\"], config[\"plotting\"], fig_name=None, ax=ax, lw=3\n",
    ")\n",
    "\n",
    "# ax.semilogy()"
   ]
  },
  {
   "cell_type": "code",
   "execution_count": null,
   "metadata": {},
   "outputs": [],
   "source": [
    "stores_inflow = n.stores_t.p.sum()\n",
    "h2_stores = stores_inflow.loc[\n",
    "    [c for c in stores_inflow.index if c.find(\"H2 Store\") != -1]\n",
    "]\n",
    "h2_stores_inflow = h2_stores.where(h2_stores > 0, 0).sum()\n",
    "h2_stores_outflow = h2_stores.where(h2_stores < 0, 0).sum()"
   ]
  },
  {
   "cell_type": "markdown",
   "metadata": {},
   "source": [
    "# STATS"
   ]
  },
  {
   "cell_type": "code",
   "execution_count": null,
   "metadata": {},
   "outputs": [],
   "source": [
    "reg_groups = pd.read_csv(\n",
    "    os.path.join(root_dir, \"resources/data/regions/province_grid_groups.csv\")\n",
    ")\n",
    "reg_groups.set_index(\"Province\", inplace=True)\n",
    "mapper = reg_groups[\"Region\"].to_dict()\n",
    "gen = n.statistics.supply(\n",
    "    comps=[\"Generator\", \"Link\"], groupby=[\"carrier\", \"location\"], bus_carrier=\"AC\"\n",
    ")\n",
    "\n",
    "demands_prov = n.statistics.withdrawal(\n",
    "    comps=\"Load\",\n",
    "    groupby=[\"location\"],\n",
    "    bus_carrier=\"AC\",\n",
    ")\n",
    "grid_demands = demands_prov.groupby(mapper).sum()\n",
    "grid_demands.index = grid_demands.index.str.replace(\"China Grid\", \"\").str.replace(\n",
    "    \"Grid\", \"\"\n",
    ")"
   ]
  },
  {
   "cell_type": "code",
   "execution_count": null,
   "metadata": {},
   "outputs": [],
   "source": [
    "gen_df = gen.unstack().groupby(level=1).sum().rename(columns={\"\": \"no_loc\"})\n",
    "if \"no_loc\" in gen_df.columns:\n",
    "    gen_df.drop(columns=[\"no_loc\"])\n",
    "gen_df.drop(\"AC\", inplace=True)\n",
    "# gen_df = gen_df.T\n",
    "# gen_df = gen_df.groupby(mapper).sum().T / 1E6\n",
    "gen_df = gen_df / 1e6\n",
    "gen_df.rename(\n",
    "    columns={\n",
    "        c.replace(\"China Grid\", \"\").replace(\"Grid\", \"\"): c for c in gen_df.columns\n",
    "    },\n",
    "    inplace=True,\n",
    ")\n",
    "demands = demands_prov / 1e6\n",
    "\n",
    "pref_order = config[\"plotting\"][\"preferred_order\"]\n",
    "order = [c for c in pref_order if c in gen_df.index] + [\n",
    "    c for c in gen_df.index if c not in pref_order\n",
    "]\n",
    "gen_df = gen_df.loc[order]\n",
    "colors = gen_df.index.map(config[\"plotting\"][\"tech_colors\"])\n",
    "colors = dict(zip(gen_df.index, colors))\n",
    "ax = gen_df.T.plot.bar(\n",
    "    stacked=True,\n",
    "    color=[colors.get(carrier, \"lightgrey\") for carrier in gen_df.index],\n",
    "    figsize=(8, 6),\n",
    ")\n",
    "demands.plot(lw=0, marker=\"D\", c=\"k\", markersize=8, label=\"Demand\\n\", ax=ax)\n",
    "ax.legend(\n",
    "    loc=\"center left\", bbox_to_anchor=(1, 0.5), title=\"Carrier\", ncol=1, fontsize=8\n",
    ")\n",
    "ax.set_ylim([0, gen_df.sum().max() * 1.1])\n",
    "ax.set_ylabel(\"Generation [TWh]\")\n",
    "ax.set_xlabel(\"Province\")\n",
    "# Offset tick labels to the right for better alignment\n",
    "# for label in ax.get_xticklabels():\n",
    "#     label.set_x(label.get_position()[0] -3)\n",
    "ax.set_xticklabels(ax.get_xticklabels(), rotation=90, ha=\"center\", fontsize=11);"
   ]
  },
  {
   "cell_type": "code",
   "execution_count": null,
   "metadata": {},
   "outputs": [],
   "source": [
    "gen_df = gen.unstack().groupby(level=1).sum().rename(columns={\"\": \"no_loc\"})\n",
    "if \"no_loc\" in gen_df.columns:\n",
    "    gen_df.drop(columns=[\"no_loc\"])\n",
    "gen_df.drop(\"AC\", inplace=True)\n",
    "gen_df = gen_df.T\n",
    "gen_df = gen_df.groupby(mapper).sum().T / 1e6\n",
    "gen_df.rename(\n",
    "    columns={\n",
    "        c.replace(\"China Grid\", \"\").replace(\"Grid\", \"\"): c for c in gen_df.columns\n",
    "    },\n",
    "    inplace=True,\n",
    ")\n",
    "demands = grid_demands / 1e6\n",
    "\n",
    "pref_order = config[\"plotting\"][\"preferred_order\"]\n",
    "order = [c for c in pref_order if c in gen_df.index] + [\n",
    "    c for c in gen_df.index if c not in pref_order\n",
    "]\n",
    "gen_df = gen_df.loc[order]\n",
    "colors = gen_df.index.map(config[\"plotting\"][\"tech_colors\"])\n",
    "colors = dict(zip(gen_df.index, colors))\n",
    "ax = gen_df.T.plot.bar(\n",
    "    stacked=True,\n",
    "    color=[colors.get(carrier, \"lightgrey\") for carrier in gen_df.index],\n",
    "    figsize=(8, 6),\n",
    ")\n",
    "demands.plot(lw=0, marker=\"D\", c=\"k\", markersize=16, label=\"Demand\\n\", ax=ax)\n",
    "ax.legend(loc=\"center left\", bbox_to_anchor=(1, 0.5), title=\"Carrier\", ncol=2)\n",
    "ax.set_ylim([0, gen_df.sum().max() * 1.1])\n",
    "ax.set_ylabel(\"Generation [TWh]\")\n",
    "ax.set_xlabel(\"Grid\")\n",
    "# Offset tick labels to the right for better alignment\n",
    "# for label in ax.get_xticklabels():\n",
    "#     label.set_x(label.get_position()[0] -3)\n",
    "ax.set_xticklabels(ax.get_xticklabels(), rotation=45);"
   ]
  },
  {
   "cell_type": "code",
   "execution_count": null,
   "metadata": {},
   "outputs": [],
   "source": [
    "peak_load = n.statistics.withdrawal(\n",
    "    comps=\"Load\", groupby=[\"location\"], bus_carrier=\"AC\", aggregate_time=False\n",
    ").T.max()"
   ]
  },
  {
   "cell_type": "code",
   "execution_count": null,
   "metadata": {},
   "outputs": [],
   "source": [
    "cap = n.statistics.optimal_capacity(\n",
    "    comps=[\"Generator\", \"Link\"], groupby=[\"carrier\", \"location\"], bus_carrier=\"AC\"\n",
    ")\n",
    "\n",
    "cap_df = cap.unstack().groupby(level=1).sum().rename(columns={\"\": \"no_loc\"})\n",
    "if \"no_loc\" in cap_df.columns:\n",
    "    cap_df.drop(columns=[\"no_loc\"])\n",
    "cap_df.drop(\"AC\", inplace=True)\n",
    "# cap_df = cap_df.T\n",
    "# cap_df = cap_df.groupby(mapper).sum().T / 1E6\n",
    "cap_df = cap_df / 1e3\n",
    "cap_df.rename(\n",
    "    columns={\n",
    "        c.replace(\"China Grid\", \"\").replace(\"Grid\", \"\"): c for c in cap_df.columns\n",
    "    },\n",
    "    inplace=True,\n",
    ")\n",
    "peak_demand = peak_load / 1e3\n",
    "\n",
    "pref_order = config[\"plotting\"][\"preferred_order\"]\n",
    "order = [c for c in pref_order if c in cap_df.index] + [\n",
    "    c for c in cap_df.index if c not in pref_order\n",
    "]\n",
    "cap_df = cap_df.loc[order]\n",
    "colors = cap_df.index.map(config[\"plotting\"][\"tech_colors\"])\n",
    "colors = dict(zip(cap_df.index, colors))\n",
    "ax = cap_df.T.plot.bar(\n",
    "    stacked=True,\n",
    "    color=[colors.get(carrier, \"lightgrey\") for carrier in cap_df.index],\n",
    "    figsize=(8, 6),\n",
    ")\n",
    "peak_demand.plot(lw=0, marker=\"D\", c=\"k\", markersize=8, label=\"Peak Load\\n\", ax=ax)\n",
    "ax.legend(\n",
    "    loc=\"center left\", bbox_to_anchor=(1, 0.5), title=\"Carrier\", ncol=1, fontsize=8\n",
    ")\n",
    "ax.set_ylim([0, cap_df.sum().max() * 1.2])\n",
    "ax.set_ylabel(\"Capacity [GW]\")\n",
    "ax.set_xlabel(\"Province\")\n",
    "# Offset tick labels to the right for better alignment\n",
    "# for label in ax.get_xticklabels():\n",
    "#     label.set_x(label.get_position()[0] -3)\n",
    "ax.set_xticklabels(ax.get_xticklabels(), rotation=90, ha=\"center\", fontsize=11);"
   ]
  },
  {
   "cell_type": "code",
   "execution_count": null,
   "metadata": {},
   "outputs": [],
   "source": [
    "def get_solver_tolerance(config: dict, tol_name=\"BarConvTol\") -> float:\n",
    "    \"\"\"Get the solver tolerance from the config\n",
    "\n",
    "    Args:\n",
    "        config (dict): the config\n",
    "        tol_name (str): the name of the tolerance option. Defaults to \"BarConvTol\"\n",
    "\n",
    "    Returns:\n",
    "        float: the value\n",
    "    \"\"\"\n",
    "    solver_opts = config[\"solving\"][\"solver\"][\"options\"]\n",
    "    return config[\"solving\"][\"solver_options\"][solver_opts][tol_name]\n",
    "\n",
    "\n",
    "def find_numerical_zeros(n, config, tolerance_name=\"BarConvTol\") -> list:\n",
    "    \"\"\"\n",
    "    Identify numerical zeros in the network's optimization results.\n",
    "\n",
    "    This function checks for numerical zeros in the network's optimization results,\n",
    "    such as link capacities or weighted prices, based on a specified solver tolerance.\n",
    "\n",
    "    Args:\n",
    "        n (pypsa.Network): The PyPSA network object containing optimization results.\n",
    "        config (dict): Configuration dictionary containing solver options.\n",
    "        tolerance_name (str): The name of the solver tolerance option to use. Defaults to \"BarConvTol\".\n",
    "\n",
    "    Returns:\n",
    "        list: A list of items (e.g., links or buses) where numerical zeros are detected.\n",
    "    \"\"\"\n",
    "    tol = get_solver_tolerance(config, tolerance_name)\n",
    "    threshold = n.objective * float(tol)\n",
    "\n",
    "    costs = pd.concat([n.statistics.expanded_capex(), n.statistics.opex()], axis=1)\n",
    "    return costs.fillna(0).sum(axis=1).loc[costs.sum(axis=1) < threshold].index\n",
    "\n",
    "\n",
    "num_zeros = find_numerical_zeros(n, config, tolerance_name=\"BarConvTol\")"
   ]
  },
  {
   "cell_type": "code",
   "execution_count": null,
   "metadata": {},
   "outputs": [],
   "source": [
    "PLOT_STATS = False\n",
    "\n",
    "\n",
    "def rename_index(ds):\n",
    "    specific = ds.index.map(lambda x: f\"{x[1]}\\n({x[0]})\")\n",
    "    generic = ds.index.get_level_values(\"carrier\")\n",
    "    duplicated = generic.duplicated(keep=False)\n",
    "    index = specific.where(duplicated, generic)\n",
    "    return ds.set_axis(index)\n",
    "\n",
    "\n",
    "def plot_static_per_carrier(ds, ax, drop_zero=True):\n",
    "    if drop_zero:\n",
    "        ds = ds[ds != 0]\n",
    "    ds = ds.dropna()\n",
    "    c = colors[ds.index.get_level_values(\"carrier\")]\n",
    "    ds = ds.pipe(rename_index)\n",
    "    label = f\"{ds.attrs['name']} [{ds.attrs['unit']}]\"\n",
    "    ds.plot.barh(color=c.values, xlabel=label, ax=ax)\n",
    "    ax.grid(axis=\"y\")\n",
    "\n",
    "\n",
    "if PLOT_STATS:\n",
    "    bus_carrier = \"AC\"\n",
    "    n.loads.carrier = \"load\"\n",
    "    n.carriers.loc[\"load\", [\"nice_name\", \"color\"]] = \"Load\", \"#110d63\"\n",
    "    colors = n.carriers.set_index(\"nice_name\").color.where(\n",
    "        lambda s: s != \"\", \"lightgrey\"\n",
    "    )\n",
    "\n",
    "    fig, ax = plt.subplots()\n",
    "    ds = n.statistics.capacity_factor(bus_carrier=bus_carrier).dropna()\n",
    "    plot_static_per_carrier(ds, ax)\n",
    "    plt.show()\n",
    "\n",
    "    fig, ax = plt.subplots()\n",
    "    ds = n.statistics.installed_capacity(bus_carrier=bus_carrier).dropna()\n",
    "    if \"Line\" in ds.index:\n",
    "        ds = ds.drop(\"Line\")\n",
    "    ds = ds.drop((\"Generator\", \"Load\"), errors=\"ignore\")\n",
    "    ds = ds / 1e3\n",
    "    ds.attrs[\"unit\"] = \"GW\"\n",
    "    plot_static_per_carrier(ds.abs(), ax)\n",
    "    plt.show()\n",
    "\n",
    "    fig, ax = plt.subplots()\n",
    "    ds = n.statistics.optimal_capacity(bus_carrier=bus_carrier)\n",
    "    if \"Line\" in ds.index:\n",
    "        ds = ds.drop(\"Line\")\n",
    "    ds = ds.drop((\"Generator\", \"Load\"), errors=\"ignore\")\n",
    "    ds = ds.abs() / 1e3\n",
    "    ds.attrs[\"unit\"] = \"GW\"\n",
    "    plot_static_per_carrier(ds, ax)\n",
    "    plt.show()\n",
    "\n",
    "    fig, ax = plt.subplots()\n",
    "    ds = n.statistics.capex(bus_carrier=bus_carrier)\n",
    "    plot_static_per_carrier(ds, ax)\n",
    "    plt.show()\n",
    "\n",
    "    fig, ax = plt.subplots()\n",
    "    ds = n.statistics.opex(bus_carrier=bus_carrier)\n",
    "    plot_static_per_carrier(ds, ax)\n",
    "    plt.show()\n",
    "\n",
    "    fig, ax = plt.subplots()\n",
    "    ds = n.statistics.curtailment(bus_carrier=bus_carrier)\n",
    "    plot_static_per_carrier(ds, ax)\n",
    "    plt.show()\n",
    "\n",
    "    fig, ax = plt.subplots()\n",
    "    ds = n.statistics.supply(bus_carrier=bus_carrier)\n",
    "    if \"Line\" in ds.index:\n",
    "        ds = ds.drop(\"Line\")\n",
    "    ds = ds / 1e6\n",
    "    ds.attrs[\"unit\"] = \"TWh\"\n",
    "    plot_static_per_carrier(ds, ax)\n",
    "    plt.show()\n",
    "\n",
    "    if snakemake.config[\"heat_coupling\"]:\n",
    "        fig, ax = plt.subplots()\n",
    "        ds = n.statistics.supply(bus_carrier=\"heat\")\n",
    "        if \"Line\" in ds.index:\n",
    "            ds = ds.drop(\"Line\")\n",
    "        ds = ds / 1e6\n",
    "        ds.attrs[\"unit\"] = \"TWh\"\n",
    "        plot_static_per_carrier(ds, ax)\n",
    "        plt.show()\n",
    "\n",
    "    fig, ax = plt.subplots()\n",
    "    ds = n.statistics.withdrawal(bus_carrier=bus_carrier)\n",
    "    if \"Line\" in ds.index:\n",
    "        ds = ds.drop(\"Line\")\n",
    "    ds = ds / -1e6\n",
    "    ds.attrs[\"unit\"] = \"TWh\"\n",
    "    plot_static_per_carrier(ds, ax)\n",
    "    plt.show()\n",
    "\n",
    "    fig, ax = plt.subplots()\n",
    "    ds = n.statistics.market_value(bus_carrier=bus_carrier)\n",
    "    plot_static_per_carrier(ds, ax)\n",
    "    plt.show()"
   ]
  },
  {
   "cell_type": "code",
   "execution_count": null,
   "metadata": {},
   "outputs": [],
   "source": [
    "from _pypsa_helpers import calc_lcoe\n",
    "rev_costs = calc_lcoe(n, groupby=None)\n",
    "rev_costs\n"
   ]
  },
  {
   "cell_type": "code",
   "execution_count": null,
   "metadata": {
    "slideshow": {
     "slide_type": "slide"
    }
   },
   "outputs": [],
   "source": [
    "with io.capture_output() as captured:\n",
    "    ds = rev_costs[\"LCOE\"].droplevel(0)\n",
    "    ds.attrs = {\"name\": \"LCOE\", \"unit\": \"€/MWh\"}\n",
    "    fig, ax = plt.subplots()\n",
    "    plot_static_per_carrier(ds[~ds.index.isin(num_zeros)], ax)\n",
    "\n",
    "    ds = rev_costs[\"profit_pu\"]\n",
    "    ds.attrs = {\"name\": \"MV - LCOE\", \"unit\": \"€/MWh\"}\n",
    "    fig, ax = plt.subplots()\n",
    "    plot_static_per_carrier(ds[~ds.index.isin(num_zeros)], ax)"
   ]
  },
  {
   "cell_type": "markdown",
   "metadata": {},
   "source": [
    "# Network topology\n",
    "irrelevant as don't have lines"
   ]
  },
  {
   "cell_type": "code",
   "execution_count": null,
   "metadata": {},
   "outputs": [],
   "source": [
    "n.determine_network_topology()\n",
    "n.sub_networks[\"n_branches\"] = [len(sn.branches()) for sn in n.sub_networks.obj]\n",
    "n.sub_networks[\"n_buses\"] = [len(sn.buses()) for sn in n.sub_networks.obj]"
   ]
  },
  {
   "cell_type": "markdown",
   "metadata": {},
   "source": [
    "# Shadow prices"
   ]
  },
  {
   "cell_type": "code",
   "execution_count": null,
   "metadata": {},
   "outputs": [],
   "source": [
    "import seaborn as sns"
   ]
  },
  {
   "cell_type": "code",
   "execution_count": null,
   "metadata": {
    "slideshow": {
     "slide_type": "slide"
    }
   },
   "outputs": [],
   "source": [
    "capex_ = n.statistics.expanded_capex().sum()\n",
    "installed_capex_ = n.statistics.installed_capex().sum()\n",
    "opex_ = n.statistics.opex().sum()\n",
    "costs_ = pd.DataFrame(\n",
    "    {\n",
    "        \"OPEX\": opex_,\n",
    "        \"Installed CAPEX\": installed_capex_,\n",
    "        \"CAPEX\": capex_,\n",
    "        \"total\": capex_ + installed_capex_ + opex_,\n",
    "    },\n",
    "    index=[\"Costs\"],\n",
    ").stack()\n",
    "revenue_ = n.statistics.revenue(comps=\"Load\", bus_carrier=\"AC\").sum()\n",
    "costs_.loc[(\"Revenue\", \"AC\")] = revenue_ * -1\n",
    "all_ = pd.concat({f\"{PLANNING_YEAR} budget\": costs_}, names=[\"CO2 control\"])\n",
    "all_.index.names = [\"CO2 control\", \"Cat\", \"Type\"]\n",
    "all_ = pd.DataFrame(all_, columns=[\"Value\"])\n",
    "\n",
    "\n",
    "sns.catplot(\n",
    "    all_,\n",
    "    x=\"Cat\",\n",
    "    y=\"Value\",\n",
    "    hue=\"Type\",\n",
    "    col=\"CO2 control\",\n",
    "    dodge=True,\n",
    "    kind=\"bar\",\n",
    "    alpha=0.8,\n",
    ")"
   ]
  },
  {
   "cell_type": "code",
   "execution_count": null,
   "metadata": {},
   "outputs": [],
   "source": [
    "rev = n.statistics.revenue(groupby=pypsa.statistics.get_carrier_and_bus_carrier)\n",
    "opex = n.statistics.opex(groupby=pypsa.statistics.get_carrier_and_bus_carrier)\n",
    "capex = n.statistics.expanded_capex(\n",
    "    groupby=pypsa.statistics.get_carrier_and_bus_carrier\n",
    ")\n",
    "supply = n.statistics.supply(groupby=pypsa.statistics.get_carrier_and_bus_carrier)\n",
    "index = rev.index.union(opex.index).union(capex.index)\n",
    "rents = pd.concat(\n",
    "    [opex, capex, rev, supply], axis=1, keys=[\"OPEX\", \"CAPEX\", \"Revenue\", \"supply\"]\n",
    ").fillna(0)\n",
    "rents[\"delta\"] = rents.apply(lambda row: row.Revenue - row.CAPEX - row.OPEX, axis=1)\n",
    "rents[\"delta_pu\"] = rents.delta / rents.supply\n",
    "rents.sort_values(\"delta_pu\", ascending=False, inplace=True)"
   ]
  },
  {
   "cell_type": "code",
   "execution_count": null,
   "metadata": {
    "slideshow": {
     "slide_type": "slide"
    }
   },
   "outputs": [],
   "source": [
    "rents[rents.supply > 1e5].droplevel(0).sort_values(\n",
    "    \"delta_pu\", ascending=False\n",
    ").plot.bar(y=\"delta_pu\", stacked=True, figsize=(10, 6), ylabel=\"Rev-Costs Eur/MWh\");"
   ]
  },
  {
   "cell_type": "code",
   "execution_count": null,
   "metadata": {},
   "outputs": [],
   "source": [
    "npresolve = pypsa.Network(\n",
    "    \"/p/tmp/ivanra/PyPSA-China-PIK/results/v-1.1.0_REMIND_EFC_2025-07-21_r27_more_windbins_freeze/overnight_co2pw-SSP2-PkBudg1000-CHA-higher_minwind_cf_topo-current+FCG/prenetworks-brownfield/ntwk_2055.nc\"\n",
    ")"
   ]
  },
  {
   "cell_type": "markdown",
   "metadata": {},
   "source": [
    "## INTERACTIVE"
   ]
  },
  {
   "cell_type": "code",
   "execution_count": null,
   "metadata": {},
   "outputs": [],
   "source": [
    "import numpy as np\n",
    "\n",
    "# make names and link sizes, make sure we only plot AC, DC & statiosn\n",
    "ac_links = n.links[n.links.carrier == \"AC\"]\n",
    "colors = n.links.index.to_series().apply(lambda x: \"black\" if \"ext\" in x else \"pink\")\n",
    "widths = np.log(n.links.p_nom_opt + 3) / 2\n",
    "widths[~widths.index.isin(ac_links.index)] = 0\n",
    "widths[widths.index.str.contains(\"reversed\")] = 0\n",
    "names = n.links.copy()\n",
    "names[\"name\"] = names.index.values\n",
    "names.loc[~names.index.isin(ac_links.index), \"p_nom_opt\"] = \"\"\n",
    "names.loc[~names.index.isin(ac_links.index), \"name\"] = \"\"\n",
    "buses = n.buses.copy()\n",
    "buses[\"name\"] = buses.apply(\n",
    "    lambda x: f\"{x.name}\" if x.carrier == \"AC\" or x.carrier == \"stations\" else \"\",\n",
    "    axis=1,\n",
    ")\n",
    "buses[\"sizes\"] = buses.apply(\n",
    "    lambda x: 10 if x.carrier == \"AC\" or x.carrier == \"stations\" else 0, axis=1\n",
    ")\n",
    "buses[\"colors\"] = buses.apply(lambda x: \"black\" if x.carrier == \"AC\" else \"red\", axis=1)\n",
    "buses.carrier.unique()\n",
    "ax = n.iplot(\n",
    "    link_colors=colors,\n",
    "    link_widths=widths,\n",
    "    link_text=names.p_nom_opt.astype(str) + names.name,\n",
    "    bus_text=buses.name,\n",
    "    bus_sizes=buses.sizes,\n",
    "    bus_colors=buses.colors,\n",
    ");"
   ]
  },
  {
   "cell_type": "markdown",
   "metadata": {},
   "source": [
    "# EXAMPLES"
   ]
  },
  {
   "cell_type": "code",
   "execution_count": null,
   "metadata": {},
   "outputs": [],
   "source": [
    "import geopandas as gpd"
   ]
  },
  {
   "cell_type": "code",
   "execution_count": null,
   "metadata": {},
   "outputs": [],
   "source": [
    "vre_techs = [\"onwind\", \"offwind\", \"solar\"]\n",
    "resources = {}\n",
    "for tech in vre_techs:\n",
    "    nbins = config[\"renewable\"][tech][\"resource_classes\"][\"n\"]\n",
    "    min_cf = config[\"renewable\"][tech][\"resource_classes\"][\"min_cf_delta\"]\n",
    "    target = os.path.join(\n",
    "        root_dir,\n",
    "        f\"resources/derived_data/cutout_China-2020c/{tech}_regions_by_class_min_cf_delta{min_cf}_n{nbins}.geojson\",\n",
    "    )\n",
    "    resources[tech] = gpd.read_file(target)"
   ]
  },
  {
   "cell_type": "code",
   "execution_count": null,
   "metadata": {},
   "outputs": [],
   "source": [
    "from mpl_toolkits.axes_grid1 import make_axes_locatable\n",
    "\n",
    "fig, ax = plt.subplots(1, 2, figsize=(12, 5))\n",
    "# Adjust colorbar to fit the subplot height\n",
    "\n",
    "divider = make_axes_locatable(ax[0])\n",
    "cax = divider.append_axes(\"right\", size=\"5%\", pad=-0.3)\n",
    "resources[\"solar\"].plot(\"cf\", cmap=\"magma_r\", legend=True, edgecolor=None, linewidth=0, ax=ax[0], cax=cax)\n",
    "resources[\"solar\"].dissolve(\"bus\").boundary.plot(edgecolor=\"white\", facecolor=\"none\", linewidth=0.7, ax=ax[0])\n",
    "ax[0].set_title(\"Solar PV Availability Factor\")\n",
    "\n",
    "divider2 = make_axes_locatable(ax[1])\n",
    "cax2 = divider2.append_axes(\"right\", size=\"5%\", pad=-0.3)\n",
    "\n",
    "resources[\"onwind\"][resources[\"onwind\"].cf > 0.02].plot(\n",
    "    \"cf\",\n",
    "    cmap=\"magma_r\",\n",
    "    legend=True,\n",
    "    linewidth=0,\n",
    "    ax=ax[1],\n",
    "    cax=cax2,\n",
    "    vmin=0.05,\n",
    "    missing_kwds={\"color\": \"white\"},\n",
    ")\n",
    "resources[\"offwind\"][resources[\"offwind\"].cf > 0.05].plot(\n",
    "    \"cf\",\n",
    "    cmap=\"magma_r\",\n",
    "    legend=True,\n",
    "    linewidth=0,\n",
    "    ax=ax[1],\n",
    "    cax=cax2,\n",
    "    vmin=0.05,\n",
    "    alpha=0.8,\n",
    "    missing_kwds={\"color\": \"white\"},\n",
    ")\n",
    "resources[\"onwind\"].dissolve(\"bus\").boundary.plot(\n",
    "    edgecolor=\"black\", facecolor=None, linewidth=0.7, ax=ax[1]\n",
    ")\n",
    "ax[1].set_title(\"Wind Availability Factor\")\n",
    "fig.tight_layout()"
   ]
  }
 ],
 "metadata": {
  "kernelspec": {
   "display_name": "pypsa-china",
   "language": "python",
   "name": "python3"
  },
  "language_info": {
   "codemirror_mode": {
    "name": "ipython",
    "version": 3
   },
   "file_extension": ".py",
   "mimetype": "text/x-python",
   "name": "python",
   "nbconvert_exporter": "python",
   "pygments_lexer": "ipython3",
   "version": "3.12.7"
  }
 },
 "nbformat": 4,
 "nbformat_minor": 2
}
